{
  "nbformat": 4,
  "nbformat_minor": 0,
  "metadata": {
    "kernelspec": {
      "display_name": "Python 3",
      "language": "python",
      "name": "python3"
    },
    "language_info": {
      "codemirror_mode": {
        "name": "ipython",
        "version": 3
      },
      "file_extension": ".py",
      "mimetype": "text/x-python",
      "name": "python",
      "nbconvert_exporter": "python",
      "pygments_lexer": "ipython3",
      "version": "3.6.8"
    },
    "nav_menu": {
      "height": "360px",
      "width": "416px"
    },
    "toc": {
      "navigate_menu": true,
      "number_sections": true,
      "sideBar": true,
      "threshold": 6,
      "toc_cell": false,
      "toc_section_display": "block",
      "toc_window_display": false
    },
    "colab": {
      "provenance": []
    }
  },
  "cells": [
    {
      "cell_type": "markdown",
      "metadata": {
        "id": "wmifxab9K4a8"
      },
      "source": [
        "#4.4 Tutorial: Optimizations for Deep Neural Networks\n",
        "\n",
        "This tutorial provides hands-on coding experience to implement multiple optimizers for your deep neural network. You will start by exploring the vanishing and exploding gradient problems and some of their most popular solutions. Next, you will inspect how batch normalization can help stabilize the parameters during training. Then, you will see when transfer learning and pretrained layers can help you tackle complex tasks even when you have little training data. Finally, you will try to run several fast optimizers for large neural networks such as momentum, Nesterov accelerated gradient, AdaGrad, RMSProp, Adam, and Nadam optimization."
      ]
    },
    {
      "cell_type": "markdown",
      "metadata": {
        "id": "UutrWmkDK4a-"
      },
      "source": [
        "_This notebook contains all the sample code for chapter on optimizing neural nets."
      ]
    },
    {
      "cell_type": "markdown",
      "metadata": {
        "id": "2k-XlfBsK4a-"
      },
      "source": [
        "# Setup"
      ]
    },
    {
      "cell_type": "markdown",
      "metadata": {
        "id": "MRIsdiBEK4a_"
      },
      "source": [
        "First, let's import a few common modules, ensure MatplotLib plots figures inline and prepare a function to save the figures. We also check that Python 3.5 or later is installed (although Python 2.x may work, it is deprecated so we strongly recommend you use Python 3 instead), as well as Scikit-Learn ≥0.20 and TensorFlow ≥2.0-preview."
      ]
    },
    {
      "cell_type": "code",
      "metadata": {
        "id": "z7UpgUi1K4bA",
        "colab": {
          "base_uri": "https://localhost:8080/"
        },
        "outputId": "ebfb5931-8536-4725-e607-bb6eb9ac83d4"
      },
      "source": [
        "# Python ≥3.5 is required\n",
        "import sys\n",
        "#assert sys.version_info >= (3, 5)\n",
        "\n",
        "# Scikit-Learn ≥0.20 is required\n",
        "import sklearn\n",
        "#assert sklearn.__version__ >= \"0.20\"\n",
        "\n",
        "# TensorFlow ≥2.0-preview is required\n",
        "import tensorflow as tf\n",
        "from tensorflow import keras\n",
        "%tensorflow_version 2.x\n",
        "print(tf.__version__)\n",
        "#assert tf.__version__ >= \"2.0\"\n",
        "\n",
        "# Common imports\n",
        "import numpy as np\n",
        "import os\n",
        "\n",
        "# to make this notebook's output stable across runs\n",
        "np.random.seed(42)\n",
        "\n",
        "# To plot pretty figures\n",
        "%matplotlib inline\n",
        "import matplotlib as mpl\n",
        "import matplotlib.pyplot as plt\n",
        "mpl.rc('axes', labelsize=14)\n",
        "mpl.rc('xtick', labelsize=12)\n",
        "mpl.rc('ytick', labelsize=12)\n",
        "\n",
        "# Where to save the figures\n",
        "PROJECT_ROOT_DIR = \".\"\n",
        "CHAPTER_ID = \"deep\"\n",
        "IMAGES_PATH = os.path.join(PROJECT_ROOT_DIR, \"images\", CHAPTER_ID)\n",
        "os.makedirs(IMAGES_PATH, exist_ok=True)\n",
        "\n",
        "def save_fig(fig_id, tight_layout=True, fig_extension=\"png\", resolution=300):\n",
        "    path = os.path.join(IMAGES_PATH, fig_id + \".\" + fig_extension)\n",
        "    print(\"Saving figure\", fig_id)\n",
        "    if tight_layout:\n",
        "        plt.tight_layout()\n",
        "    plt.savefig(path, format=fig_extension, dpi=resolution)"
      ],
      "execution_count": 1,
      "outputs": [
        {
          "output_type": "stream",
          "name": "stdout",
          "text": [
            "Colab only includes TensorFlow 2.x; %tensorflow_version has no effect.\n",
            "2.15.0\n"
          ]
        }
      ]
    },
    {
      "cell_type": "markdown",
      "metadata": {
        "id": "KGbZi4u5K4bC"
      },
      "source": [
        "# Vanishing/Exploding Gradients Problem"
      ]
    },
    {
      "cell_type": "code",
      "metadata": {
        "id": "p6vQLXdPK4bD"
      },
      "source": [
        "def logit(z):\n",
        "    return 1 / (1 + np.exp(-z))"
      ],
      "execution_count": 2,
      "outputs": []
    },
    {
      "cell_type": "code",
      "metadata": {
        "id": "HBFs3qLPK4bF",
        "colab": {
          "base_uri": "https://localhost:8080/",
          "height": 504
        },
        "outputId": "d7d0e292-16d8-475c-cb7f-46c2bb21b350"
      },
      "source": [
        "z = np.linspace(-5, 5, 200)\n",
        "\n",
        "plt.plot([-5, 5], [0, 0], 'k-')\n",
        "plt.plot([-5, 5], [1, 1], 'k--')\n",
        "plt.plot([0, 0], [-0.2, 1.2], 'k-')\n",
        "plt.plot([-5, 5], [-3/4, 7/4], 'g--')\n",
        "plt.plot(z, logit(z), \"b-\", linewidth=2)\n",
        "props = dict(facecolor='black', shrink=0.1)\n",
        "plt.annotate('Saturating', xytext=(3.5, 0.7), xy=(5, 1), arrowprops=props, fontsize=14, ha=\"center\")\n",
        "plt.annotate('Saturating', xytext=(-3.5, 0.3), xy=(-5, 0), arrowprops=props, fontsize=14, ha=\"center\")\n",
        "plt.annotate('Linear', xytext=(2, 0.2), xy=(0, 0.5), arrowprops=props, fontsize=14, ha=\"center\")\n",
        "plt.grid(True)\n",
        "plt.title(\"Sigmoid activation function\", fontsize=14)\n",
        "plt.axis([-5, 5, -0.2, 1.2])\n",
        "\n",
        "save_fig(\"sigmoid_saturation_plot\")\n",
        "plt.show()"
      ],
      "execution_count": 3,
      "outputs": [
        {
          "output_type": "stream",
          "name": "stdout",
          "text": [
            "Saving figure sigmoid_saturation_plot\n"
          ]
        },
        {
          "output_type": "display_data",
          "data": {
            "text/plain": [
              "<Figure size 640x480 with 1 Axes>"
            ],
            "image/png": "[encoded data removed]"
          },
          "metadata": {}
        }
      ]
    },
    {
      "cell_type": "markdown",
      "metadata": {
        "id": "YYnqZqD0K4bI"
      },
      "source": [
        "## Xavier and He Initialization"
      ]
    },
    {
      "cell_type": "code",
      "metadata": {
        "id": "8MmFkpDAK4bJ",
        "colab": {
          "base_uri": "https://localhost:8080/"
        },
        "outputId": "9fa2e681-21e5-4108-cd28-8770fa2fa0b7"
      },
      "source": [
        "[name for name in dir(keras.initializers) if not name.startswith(\"_\")]"
      ],
      "execution_count": 4,
      "outputs": [
        {
          "output_type": "execute_result",
          "data": {
            "text/plain": [
              "['Constant',\n",
              " 'GlorotNormal',\n",
              " 'GlorotUniform',\n",
              " 'HeNormal',\n",
              " 'HeUniform',\n",
              " 'Identity',\n",
              " 'Initializer',\n",
              " 'LecunNormal',\n",
              " 'LecunUniform',\n",
              " 'Ones',\n",
              " 'Orthogonal',\n",
              " 'RandomNormal',\n",
              " 'RandomUniform',\n",
              " 'TruncatedNormal',\n",
              " 'VarianceScaling',\n",
              " 'Zeros',\n",
              " 'constant',\n",
              " 'deserialize',\n",
              " 'get',\n",
              " 'glorot_normal',\n",
              " 'glorot_uniform',\n",
              " 'he_normal',\n",
              " 'he_uniform',\n",
              " 'identity',\n",
              " 'lecun_normal',\n",
              " 'lecun_uniform',\n",
              " 'ones',\n",
              " 'orthogonal',\n",
              " 'random_normal',\n",
              " 'random_uniform',\n",
              " 'serialize',\n",
              " 'truncated_normal',\n",
              " 'variance_scaling',\n",
              " 'zeros']"
            ]
          },
          "metadata": {},
          "execution_count": 4
        }
      ]
    },
    {
      "cell_type": "code",
      "metadata": {
        "id": "k-pO42QYK4bL",
        "colab": {
          "base_uri": "https://localhost:8080/"
        },
        "outputId": "fd675c9c-e171-4003-b655-2d8150c5429a"
      },
      "source": [
        "keras.layers.Dense(10, activation=\"relu\", kernel_initializer=\"he_normal\")"
      ],
      "execution_count": 5,
      "outputs": [
        {
          "output_type": "execute_result",
          "data": {
            "text/plain": [
              "<keras.src.layers.core.dense.Dense at 0x7bdeeac38f10>"
            ]
          },
          "metadata": {},
          "execution_count": 5
        }
      ]
    },
    {
      "cell_type": "code",
      "metadata": {
        "id": "OT8VJQDbK4bO",
        "colab": {
          "base_uri": "https://localhost:8080/"
        },
        "outputId": "30a4ea76-3819-4752-a814-ed9cb2afcf78"
      },
      "source": [
        "init = keras.initializers.VarianceScaling(scale=2., mode='fan_avg',\n",
        "                                          distribution='uniform')\n",
        "keras.layers.Dense(10, activation=\"relu\", kernel_initializer=init)"
      ],
      "execution_count": 6,
      "outputs": [
        {
          "output_type": "execute_result",
          "data": {
            "text/plain": [
              "<keras.src.layers.core.dense.Dense at 0x7bdeeac3a9e0>"
            ]
          },
          "metadata": {},
          "execution_count": 6
        }
      ]
    },
    {
      "cell_type": "markdown",
      "metadata": {
        "id": "iD5QMMtSK4bQ"
      },
      "source": [
        "## Nonsaturating Activation Functions"
      ]
    },
    {
      "cell_type": "markdown",
      "metadata": {
        "id": "PDDac73GK4bQ"
      },
      "source": [
        "### Leaky ReLU"
      ]
    },
    {
      "cell_type": "code",
      "metadata": {
        "id": "T7ocEhoKK4bR"
      },
      "source": [
        "def leaky_relu(z, alpha=0.01):\n",
        "    return np.maximum(alpha*z, z)"
      ],
      "execution_count": 7,
      "outputs": []
    },
    {
      "cell_type": "code",
      "metadata": {
        "id": "ai7HCZ9aK4bT",
        "colab": {
          "base_uri": "https://localhost:8080/",
          "height": 504
        },
        "outputId": "13c6a98c-8e83-453c-8cb4-4e9aeaa0a6bb"
      },
      "source": [
        "plt.plot(z, leaky_relu(z, 0.05), \"b-\", linewidth=2)\n",
        "plt.plot([-5, 5], [0, 0], 'k-')\n",
        "plt.plot([0, 0], [-0.5, 4.2], 'k-')\n",
        "plt.grid(True)\n",
        "props = dict(facecolor='black', shrink=0.1)\n",
        "plt.annotate('Leak', xytext=(-3.5, 0.5), xy=(-5, -0.2), arrowprops=props, fontsize=14, ha=\"center\")\n",
        "plt.title(\"Leaky ReLU activation function\", fontsize=14)\n",
        "plt.axis([-5, 5, -0.5, 4.2])\n",
        "\n",
        "save_fig(\"leaky_relu_plot\")\n",
        "plt.show()"
      ],
      "execution_count": 8,
      "outputs": [
        {
          "output_type": "stream",
          "name": "stdout",
          "text": [
            "Saving figure leaky_relu_plot\n"
          ]
        },
        {
          "output_type": "display_data",
          "data": {
            "text/plain": [
              "<Figure size 640x480 with 1 Axes>"
            ],
            "image/png": "[encoded data removed]"
          },
          "metadata": {}
        }
      ]
    },
    {
      "cell_type": "code",
      "metadata": {
        "id": "pggaE-QBK4bW",
        "colab": {
          "base_uri": "https://localhost:8080/"
        },
        "outputId": "7f2cf572-50f4-427c-a8c7-9feedc2ff5ce"
      },
      "source": [
        "[m for m in dir(keras.activations) if not m.startswith(\"_\")]"
      ],
      "execution_count": 9,
      "outputs": [
        {
          "output_type": "execute_result",
          "data": {
            "text/plain": [
              "['deserialize',\n",
              " 'elu',\n",
              " 'exponential',\n",
              " 'gelu',\n",
              " 'get',\n",
              " 'hard_sigmoid',\n",
              " 'linear',\n",
              " 'mish',\n",
              " 'relu',\n",
              " 'selu',\n",
              " 'serialize',\n",
              " 'sigmoid',\n",
              " 'softmax',\n",
              " 'softplus',\n",
              " 'softsign',\n",
              " 'swish',\n",
              " 'tanh']"
            ]
          },
          "metadata": {},
          "execution_count": 9
        }
      ]
    },
    {
      "cell_type": "code",
      "metadata": {
        "id": "DRobyXwWK4bZ",
        "colab": {
          "base_uri": "https://localhost:8080/"
        },
        "outputId": "001e8838-ee31-4f50-e854-5e57608d67ab"
      },
      "source": [
        "[m for m in dir(keras.layers) if \"relu\" in m.lower()]"
      ],
      "execution_count": 10,
      "outputs": [
        {
          "output_type": "execute_result",
          "data": {
            "text/plain": [
              "['LeakyReLU', 'PReLU', 'ReLU', 'ThresholdedReLU']"
            ]
          },
          "metadata": {},
          "execution_count": 10
        }
      ]
    },
    {
      "cell_type": "markdown",
      "metadata": {
        "id": "2_Rn83utK4bb"
      },
      "source": [
        "Let's train a neural network on Fashion MNIST using the Leaky ReLU:"
      ]
    },
    {
      "cell_type": "code",
      "metadata": {
        "id": "gnW4ZN6KK4bc",
        "colab": {
          "base_uri": "https://localhost:8080/"
        },
        "outputId": "9e527d1c-bc18-454c-e451-9abe9364eb28"
      },
      "source": [
        "(X_train_full, y_train_full), (X_test, y_test) = keras.datasets.fashion_mnist.load_data()\n",
        "X_train_full = X_train_full / 255.0\n",
        "X_test = X_test / 255.0\n",
        "X_valid, X_train = X_train_full[:5000], X_train_full[5000:]\n",
        "y_valid, y_train = y_train_full[:5000], y_train_full[5000:]"
      ],
      "execution_count": 11,
      "outputs": [
        {
          "output_type": "stream",
          "name": "stdout",
          "text": [
            "Downloading data from https://storage.googleapis.com/tensorflow/tf-keras-datasets/train-labels-idx1-ubyte.gz\n",
            "29515/29515 [==============================] - 0s 0us/step\n",
            "Downloading data from https://storage.googleapis.com/tensorflow/tf-keras-datasets/train-images-idx3-ubyte.gz\n",
            "26421880/26421880 [==============================] - 0s 0us/step\n",
            "Downloading data from https://storage.googleapis.com/tensorflow/tf-keras-datasets/t10k-labels-idx1-ubyte.gz\n",
            "5148/5148 [==============================] - 0s 0us/step\n",
            "Downloading data from https://storage.googleapis.com/tensorflow/tf-keras-datasets/t10k-images-idx3-ubyte.gz\n",
            "4422102/4422102 [==============================] - 0s 0us/step\n"
          ]
        }
      ]
    },
    {
      "cell_type": "code",
      "metadata": {
        "id": "NlXbFh11K4be"
      },
      "source": [
        "tf.random.set_seed(42)\n",
        "np.random.seed(42)\n",
        "\n",
        "model = keras.models.Sequential([\n",
        "    keras.layers.Flatten(input_shape=[28, 28]),\n",
        "    keras.layers.Dense(300, kernel_initializer=\"he_normal\"),\n",
        "    keras.layers.LeakyReLU(),\n",
        "    keras.layers.Dense(100, kernel_initializer=\"he_normal\"),\n",
        "    keras.layers.LeakyReLU(),\n",
        "    keras.layers.Dense(10, activation=\"softmax\")\n",
        "])"
      ],
      "execution_count": 19,
      "outputs": []
    },
    {
      "cell_type": "code",
      "metadata": {
        "id": "gaZ2ZT7wK4bh",
        "colab": {
          "base_uri": "https://localhost:8080/"
        },
        "outputId": "e88b872d-d8ca-4d32-e03a-2d7c99ba6b9d"
      },
      "source": [
        "model.compile(loss=\"sparse_categorical_crossentropy\",\n",
        "              optimizer=keras.optimizers.SGD(lr=1e-4),\n",
        "              metrics=[\"accuracy\"])"
      ],
      "execution_count": 31,
      "outputs": [
        {
          "output_type": "stream",
          "name": "stderr",
          "text": [
            "WARNING:absl:`lr` is deprecated in Keras optimizer, please use `learning_rate` or use the legacy optimizer, e.g.,tf.keras.optimizers.legacy.SGD.\n"
          ]
        }
      ]
    },
    {
      "cell_type": "code",
      "source": [
        "from keras.callbacks import EarlyStopping\n",
        "early_stopping = EarlyStopping(\n",
        "    monitor = 'val_accuracy',\n",
        "    patience = 10, # Number of epochs with no improvement after which training will be stopped\n",
        "    mode = 'max', # Stops training when the quantity monitored has stopped increasing\n",
        "    restore_best_weights = True # Restores model weights from the epoch with the highest value of the monitored quantity\n",
        ")"
      ],
      "metadata": {
        "id": "tPVT8EuPIMpC"
      },
      "execution_count": 21,
      "outputs": []
    },
    {
      "cell_type": "code",
      "metadata": {
        "scrolled": true,
        "id": "7N1K_kWrK4bk",
        "colab": {
          "base_uri": "https://localhost:8080/"
        },
        "outputId": "cd0a0b02-aa6b-42cc-f565-5fa440c04028"
      },
      "source": [
        "history = model.fit(X_train, y_train, epochs=1000,\n",
        "                    validation_data=(X_valid, y_valid), callbacks = [early_stopping])"
      ],
      "execution_count": 32,
      "outputs": [
        {
          "output_type": "stream",
          "name": "stdout",
          "text": [
            "Epoch 1/1000\n",
            "1719/1719 [==============================] - 10s 5ms/step - loss: 0.1452 - accuracy: 0.9458 - val_loss: 0.3079 - val_accuracy: 0.9032\n",
            "Epoch 2/1000\n",
            "1719/1719 [==============================] - 8s 5ms/step - loss: 0.1363 - accuracy: 0.9499 - val_loss: 0.3137 - val_accuracy: 0.9042\n",
            "Epoch 3/1000\n",
            "1719/1719 [==============================] - 8s 5ms/step - loss: 0.1325 - accuracy: 0.9514 - val_loss: 0.3235 - val_accuracy: 0.8984\n",
            "Epoch 4/1000\n",
            "1719/1719 [==============================] - 8s 5ms/step - loss: 0.1296 - accuracy: 0.9521 - val_loss: 0.3179 - val_accuracy: 0.9008\n",
            "Epoch 5/1000\n",
            "1719/1719 [==============================] - 8s 5ms/step - loss: 0.1283 - accuracy: 0.9525 - val_loss: 0.3202 - val_accuracy: 0.8986\n",
            "Epoch 6/1000\n",
            "1719/1719 [==============================] - 9s 5ms/step - loss: 0.1259 - accuracy: 0.9541 - val_loss: 0.3286 - val_accuracy: 0.9030\n",
            "Epoch 7/1000\n",
            "1719/1719 [==============================] - 9s 5ms/step - loss: 0.1243 - accuracy: 0.9545 - val_loss: 0.3303 - val_accuracy: 0.9004\n",
            "Epoch 8/1000\n",
            "1719/1719 [==============================] - 8s 4ms/step - loss: 0.1230 - accuracy: 0.9549 - val_loss: 0.3330 - val_accuracy: 0.9008\n",
            "Epoch 9/1000\n",
            "1719/1719 [==============================] - 9s 5ms/step - loss: 0.1216 - accuracy: 0.9551 - val_loss: 0.3320 - val_accuracy: 0.9012\n",
            "Epoch 10/1000\n",
            "1719/1719 [==============================] - 8s 4ms/step - loss: 0.1197 - accuracy: 0.9559 - val_loss: 0.3379 - val_accuracy: 0.8990\n",
            "Epoch 11/1000\n",
            "1719/1719 [==============================] - 8s 5ms/step - loss: 0.1192 - accuracy: 0.9557 - val_loss: 0.3385 - val_accuracy: 0.9018\n",
            "Epoch 12/1000\n",
            "1719/1719 [==============================] - 9s 5ms/step - loss: 0.1178 - accuracy: 0.9563 - val_loss: 0.3496 - val_accuracy: 0.9002\n"
          ]
        }
      ]
    },
    {
      "cell_type": "code",
      "source": [
        "val_accuracy_history = history.history['val_accuracy']\n",
        "max_val_accuracy = max(val_accuracy_history)\n",
        "print(f\"Maximum Validation Accuracy: {max_val_accuracy*100:.2f}%\")\n",
        "\n",
        "acc = history.history['accuracy']\n",
        "val_acc = history.history['val_accuracy']\n",
        "\n",
        "loss = history.history['loss']\n",
        "val_loss = history.history['val_loss']\n",
        "\n",
        "num_epochs = len(history.history['loss'])\n",
        "epochs_range = range(num_epochs)\n",
        "\n",
        "plt.figure(figsize=(8, 8))\n",
        "plt.subplot(1, 2, 1)\n",
        "plt.plot(epochs_range, acc, label='Training Accuracy')\n",
        "plt.plot(epochs_range, val_acc, label='Validation Accuracy')\n",
        "plt.legend(loc='lower right')\n",
        "plt.title('Training and Validation Accuracy')\n",
        "\n",
        "plt.subplot(1, 2, 2)\n",
        "plt.plot(epochs_range, loss, label='Training Loss')\n",
        "plt.plot(epochs_range, val_loss, label='Validation Loss')\n",
        "plt.legend(loc='upper right')\n",
        "plt.title('Training and Validation Loss')\n",
        "plt.show()"
      ],
      "metadata": {
        "id": "FxrIDKqmI-dx",
        "outputId": "81b8b822-ed6c-4b47-cc36-fcc7c93bea58",
        "colab": {
          "base_uri": "https://localhost:8080/",
          "height": 720
        }
      },
      "execution_count": 33,
      "outputs": [
        {
          "output_type": "stream",
          "name": "stdout",
          "text": [
            "Maximum Validation Accuracy: 90.42%\n"
          ]
        },
        {
          "output_type": "display_data",
          "data": {
            "text/plain": [
              "<Figure size 800x800 with 2 Axes>"
            ],
            "image/png": "[encoded data removed]"
          },
          "metadata": {}
        }
      ]
    },
    {
      "cell_type": "code",
      "source": [
        "model.compile(loss=\"sparse_categorical_crossentropy\",\n",
        "              optimizer=keras.optimizers.Adam(learning_rate = 0.0001),\n",
        "              metrics=[\"accuracy\"])"
      ],
      "metadata": {
        "id": "fFAaJkTKD2FD"
      },
      "execution_count": 39,
      "outputs": []
    },
    {
      "cell_type": "code",
      "source": [
        "history = model.fit(X_train, y_train, epochs=1000,\n",
        "                    validation_data=(X_valid, y_valid), callbacks = [early_stopping])"
      ],
      "metadata": {
        "id": "Lc02fpBPEFcG",
        "outputId": "c4bcc761-601f-4465-c042-940f8d32b3d6",
        "colab": {
          "base_uri": "https://localhost:8080/"
        }
      },
      "execution_count": 40,
      "outputs": [
        {
          "output_type": "stream",
          "name": "stdout",
          "text": [
            "Epoch 1/1000\n",
            "1719/1719 [==============================] - 13s 7ms/step - loss: 0.1193 - accuracy: 0.9568 - val_loss: 0.3204 - val_accuracy: 0.9022\n",
            "Epoch 2/1000\n",
            "1719/1719 [==============================] - 12s 7ms/step - loss: 0.1101 - accuracy: 0.9606 - val_loss: 0.3265 - val_accuracy: 0.9072\n",
            "Epoch 3/1000\n",
            "1719/1719 [==============================] - 11s 6ms/step - loss: 0.1063 - accuracy: 0.9615 - val_loss: 0.3281 - val_accuracy: 0.9020\n",
            "Epoch 4/1000\n",
            "1719/1719 [==============================] - 12s 7ms/step - loss: 0.1033 - accuracy: 0.9629 - val_loss: 0.3276 - val_accuracy: 0.9012\n",
            "Epoch 5/1000\n",
            "1719/1719 [==============================] - 11s 7ms/step - loss: 0.1011 - accuracy: 0.9636 - val_loss: 0.3342 - val_accuracy: 0.9026\n",
            "Epoch 6/1000\n",
            "1719/1719 [==============================] - 12s 7ms/step - loss: 0.0986 - accuracy: 0.9648 - val_loss: 0.3434 - val_accuracy: 0.9036\n",
            "Epoch 7/1000\n",
            "1719/1719 [==============================] - 13s 7ms/step - loss: 0.0964 - accuracy: 0.9655 - val_loss: 0.3407 - val_accuracy: 0.9004\n",
            "Epoch 8/1000\n",
            "1719/1719 [==============================] - 12s 7ms/step - loss: 0.0940 - accuracy: 0.9671 - val_loss: 0.3393 - val_accuracy: 0.9008\n",
            "Epoch 9/1000\n",
            "1719/1719 [==============================] - 12s 7ms/step - loss: 0.0920 - accuracy: 0.9677 - val_loss: 0.3460 - val_accuracy: 0.9042\n",
            "Epoch 10/1000\n",
            "1719/1719 [==============================] - 12s 7ms/step - loss: 0.0904 - accuracy: 0.9684 - val_loss: 0.3462 - val_accuracy: 0.9050\n",
            "Epoch 11/1000\n",
            "1719/1719 [==============================] - 12s 7ms/step - loss: 0.0887 - accuracy: 0.9681 - val_loss: 0.3590 - val_accuracy: 0.9030\n",
            "Epoch 12/1000\n",
            "1719/1719 [==============================] - 12s 7ms/step - loss: 0.0868 - accuracy: 0.9693 - val_loss: 0.3642 - val_accuracy: 0.9026\n"
          ]
        }
      ]
    },
    {
      "cell_type": "code",
      "source": [
        "val_accuracy_history = history.history['val_accuracy']\n",
        "max_val_accuracy = max(val_accuracy_history)\n",
        "print(f\"Maximum Validation Accuracy: {max_val_accuracy*100:.2f}%\")\n",
        "\n",
        "acc = history.history['accuracy']\n",
        "val_acc = history.history['val_accuracy']\n",
        "\n",
        "loss = history.history['loss']\n",
        "val_loss = history.history['val_loss']\n",
        "\n",
        "num_epochs = len(history.history['loss'])\n",
        "epochs_range = range(num_epochs)\n",
        "\n",
        "plt.figure(figsize=(8, 8))\n",
        "plt.subplot(1, 2, 1)\n",
        "plt.plot(epochs_range, acc, label='Training Accuracy')\n",
        "plt.plot(epochs_range, val_acc, label='Validation Accuracy')\n",
        "plt.legend(loc='lower right')\n",
        "plt.title('Training and Validation Accuracy')\n",
        "\n",
        "plt.subplot(1, 2, 2)\n",
        "plt.plot(epochs_range, loss, label='Training Loss')\n",
        "plt.plot(epochs_range, val_loss, label='Validation Loss')\n",
        "plt.legend(loc='upper right')\n",
        "plt.title('Training and Validation Loss')\n",
        "plt.show()"
      ],
      "metadata": {
        "id": "ojewbic_K8qR",
        "outputId": "5246b763-8428-4b8c-bd91-7b84f25a1457",
        "colab": {
          "base_uri": "https://localhost:8080/",
          "height": 720
        }
      },
      "execution_count": 41,
      "outputs": [
        {
          "output_type": "stream",
          "name": "stdout",
          "text": [
            "Maximum Validation Accuracy: 90.72%\n"
          ]
        },
        {
          "output_type": "display_data",
          "data": {
            "text/plain": [
              "<Figure size 800x800 with 2 Axes>"
            ],
            "image/png": "[encoded data removed]"
          },
          "metadata": {}
        }
      ]
    },
    {
      "cell_type": "markdown",
      "metadata": {
        "id": "cyq49UqRK4bn"
      },
      "source": [
        "Now let's try PReLU:"
      ]
    },
    {
      "cell_type": "code",
      "metadata": {
        "id": "2SlBqZB3K4bo"
      },
      "source": [
        "tf.random.set_seed(42)\n",
        "np.random.seed(42)\n",
        "\n",
        "model = keras.models.Sequential([\n",
        "    keras.layers.Flatten(input_shape=[28, 28]),\n",
        "    keras.layers.Dense(300, kernel_initializer=\"he_normal\"),\n",
        "    keras.layers.PReLU(),\n",
        "    keras.layers.Dense(100, kernel_initializer=\"he_normal\"),\n",
        "    keras.layers.PReLU(),\n",
        "    keras.layers.Dense(10, activation=\"softmax\")\n",
        "])"
      ],
      "execution_count": 15,
      "outputs": []
    },
    {
      "cell_type": "code",
      "metadata": {
        "id": "MkOqBWIaK4bq",
        "colab": {
          "base_uri": "https://localhost:8080/"
        },
        "outputId": "219a9a5f-62ef-4577-c9d5-78573ead21ef"
      },
      "source": [
        "model.compile(loss=\"sparse_categorical_crossentropy\",\n",
        "              optimizer=keras.optimizers.SGD(lr=1e-3),\n",
        "              metrics=[\"accuracy\"])"
      ],
      "execution_count": 16,
      "outputs": [
        {
          "output_type": "stream",
          "name": "stderr",
          "text": [
            "WARNING:absl:`lr` is deprecated in Keras optimizer, please use `learning_rate` or use the legacy optimizer, e.g.,tf.keras.optimizers.legacy.SGD.\n"
          ]
        }
      ]
    },
    {
      "cell_type": "code",
      "metadata": {
        "id": "t7zbSIccK4bs",
        "colab": {
          "base_uri": "https://localhost:8080/"
        },
        "outputId": "49cf8d35-fc81-433d-999e-03724f85af4f"
      },
      "source": [
        "history = model.fit(X_train, y_train, epochs=10,\n",
        "                    validation_data=(X_valid, y_valid))"
      ],
      "execution_count": 17,
      "outputs": [
        {
          "output_type": "stream",
          "name": "stdout",
          "text": [
            "Epoch 1/10\n",
            "1719/1719 [==============================] - 9s 5ms/step - loss: 0.6860 - accuracy: 0.7701 - val_loss: 0.5085 - val_accuracy: 0.8314\n",
            "Epoch 2/10\n",
            "1719/1719 [==============================] - 9s 5ms/step - loss: 0.4809 - accuracy: 0.8313 - val_loss: 0.4298 - val_accuracy: 0.8532\n",
            "Epoch 3/10\n",
            "1719/1719 [==============================] - 9s 5ms/step - loss: 0.4349 - accuracy: 0.8468 - val_loss: 0.5339 - val_accuracy: 0.8048\n",
            "Epoch 4/10\n",
            "1719/1719 [==============================] - 9s 5ms/step - loss: 0.4078 - accuracy: 0.8576 - val_loss: 0.3904 - val_accuracy: 0.8660\n",
            "Epoch 5/10\n",
            "1719/1719 [==============================] - 8s 5ms/step - loss: 0.3890 - accuracy: 0.8638 - val_loss: 0.3704 - val_accuracy: 0.8700\n",
            "Epoch 6/10\n",
            "1719/1719 [==============================] - 10s 6ms/step - loss: 0.3706 - accuracy: 0.8701 - val_loss: 0.3679 - val_accuracy: 0.8760\n",
            "Epoch 7/10\n",
            "1719/1719 [==============================] - 9s 5ms/step - loss: 0.3583 - accuracy: 0.8730 - val_loss: 0.3638 - val_accuracy: 0.8760\n",
            "Epoch 8/10\n",
            "1719/1719 [==============================] - 9s 5ms/step - loss: 0.3466 - accuracy: 0.8773 - val_loss: 0.3794 - val_accuracy: 0.8634\n",
            "Epoch 9/10\n",
            "1719/1719 [==============================] - 8s 5ms/step - loss: 0.3365 - accuracy: 0.8806 - val_loss: 0.3515 - val_accuracy: 0.8724\n",
            "Epoch 10/10\n",
            "1719/1719 [==============================] - 9s 5ms/step - loss: 0.3276 - accuracy: 0.8840 - val_loss: 0.3407 - val_accuracy: 0.8772\n"
          ]
        }
      ]
    },
    {
      "cell_type": "markdown",
      "metadata": {
        "id": "8ZpKcqj0K4bw"
      },
      "source": [
        "### ELU"
      ]
    },
    {
      "cell_type": "code",
      "metadata": {
        "id": "0HfAHBQ7K4by"
      },
      "source": [
        "def elu(z, alpha=1):\n",
        "    return np.where(z < 0, alpha * (np.exp(z) - 1), z)"
      ],
      "execution_count": 18,
      "outputs": []
    },
    {
      "cell_type": "code",
      "metadata": {
        "id": "9DJpGNLwK4b1",
        "colab": {
          "base_uri": "https://localhost:8080/"
        },
        "outputId": "0c39748f-8131-4507-b9b3-369a7cb9b53b"
      },
      "source": [
        "plt.plot(z, elu(z), \"b-\", linewidth=2)\n",
        "plt.plot([-5, 5], [0, 0], 'k-')\n",
        "plt.plot([-5, 5], [-1, -1], 'k--')\n",
        "plt.plot([0, 0], [-2.2, 3.2], 'k-')\n",
        "plt.grid(True)\n",
        "plt.title(r\"ELU activation function ($\\alpha=1$)\", fontsize=14)\n",
        "plt.axis([-5, 5, -2.2, 3.2])\n",
        "\n",
        "save_fig(\"elu_plot\")\n",
        "plt.show()"
      ],
      "execution_count": null,
      "outputs": [
        {
          "output_type": "stream",
          "text": [
            "Saving figure elu_plot\n"
          ],
          "name": "stdout"
        },
        {
          "output_type": "display_data",
          "data": {
            "image/png": "[encoded data removed]",
            "text/plain": [
              "<Figure size 432x288 with 1 Axes>"
            ]
          },
          "metadata": {
            "tags": [],
            "needs_background": "light"
          }
        }
      ]
    },
    {
      "cell_type": "markdown",
      "metadata": {
        "id": "4A_GgWJKK4cF"
      },
      "source": [
        "Implementing ELU in TensorFlow is trivial, just specify the activation function when building each layer:"
      ]
    },
    {
      "cell_type": "code",
      "metadata": {
        "id": "D9Bb8BFyK4cG",
        "colab": {
          "base_uri": "https://localhost:8080/"
        },
        "outputId": "317c5ccf-edc8-4737-842e-f770961eeb50"
      },
      "source": [
        "keras.layers.Dense(10, activation=\"elu\")"
      ],
      "execution_count": 19,
      "outputs": [
        {
          "output_type": "execute_result",
          "data": {
            "text/plain": [
              "<keras.src.layers.core.dense.Dense at 0x784c7debad70>"
            ]
          },
          "metadata": {},
          "execution_count": 19
        }
      ]
    },
    {
      "cell_type": "markdown",
      "metadata": {
        "id": "L7Y2RIv7K4cH"
      },
      "source": [
        "### SELU"
      ]
    },
    {
      "cell_type": "markdown",
      "metadata": {
        "id": "ggAtFE3gK4cI"
      },
      "source": [
        "This activation function was proposed in this [great paper](https://arxiv.org/pdf/1706.02515.pdf) by Günter Klambauer, Thomas Unterthiner and Andreas Mayr, published in June 2017. During training, a neural network composed exclusively of a stack of dense layers using the SELU activation function and LeCun initialization will self-normalize: the output of each layer will tend to preserve the same mean and variance during training, which solves the vanishing/exploding gradients problem. As a result, this activation function outperforms the other activation functions very significantly for such neural nets, so you should really try it out. Unfortunately, the self-normalizing property of the SELU activation function is easily broken: you cannot use ℓ<sub>1</sub> or ℓ<sub>2</sub> regularization, regular dropout, max-norm, skip connections or other non-sequential topologies (so recurrent neural networks won't self-normalize). However, in practice it works quite well with sequential CNNs. If you break self-normalization, SELU will not necessarily outperform other activation functions."
      ]
    },
    {
      "cell_type": "code",
      "metadata": {
        "id": "QH9yUKYYK4cJ",
        "colab": {
          "base_uri": "https://localhost:8080/"
        },
        "outputId": "2dcb0477-b73a-494e-ce92-3517379fdd8e"
      },
      "source": [
        "from scipy.special import erfc\n",
        "\n",
        "# alpha and scale to self normalize with mean 0 and standard deviation 1\n",
        "# (see equation 14 in the paper):\n",
        "alpha_0_1 = -np.sqrt(2 / np.pi) / (erfc(1/np.sqrt(2)) * np.exp(1/2) - 1)\n",
        "scale_0_1 = (1 - erfc(1 / np.sqrt(2)) * np.sqrt(np.e)) * np.sqrt(2 * np.pi) * (2 * erfc(np.sqrt(2))*np.e**2 + np.pi*erfc(1/np.sqrt(2))**2*np.e - 2*(2+np.pi)*erfc(1/np.sqrt(2))*np.sqrt(np.e)+np.pi+2)**(-1/2)\n",
        "print(alpha_0_1)\n",
        "print(scale_0_1)"
      ],
      "execution_count": 20,
      "outputs": [
        {
          "output_type": "stream",
          "name": "stdout",
          "text": [
            "1.6732632423543778\n",
            "1.0507009873554805\n"
          ]
        }
      ]
    },
    {
      "cell_type": "code",
      "metadata": {
        "id": "GRXnfL3kK4cL"
      },
      "source": [
        "def selu(z, scale=scale_0_1, alpha=alpha_0_1):\n",
        "    return scale * elu(z, alpha)"
      ],
      "execution_count": 21,
      "outputs": []
    },
    {
      "cell_type": "code",
      "metadata": {
        "id": "FTAaYwgrK4cN",
        "colab": {
          "base_uri": "https://localhost:8080/"
        },
        "outputId": "929c0cc8-f8f0-4c08-c93c-96ce4273409d"
      },
      "source": [
        "plt.plot(z, selu(z), \"b-\", linewidth=2)\n",
        "plt.plot([-5, 5], [0, 0], 'k-')\n",
        "plt.plot([-5, 5], [-1.758, -1.758], 'k--')\n",
        "plt.plot([0, 0], [-2.2, 3.2], 'k-')\n",
        "plt.grid(True)\n",
        "plt.title(\"SELU activation function\", fontsize=14)\n",
        "plt.axis([-5, 5, -2.2, 3.2])\n",
        "\n",
        "save_fig(\"selu_plot\")\n",
        "plt.show()"
      ],
      "execution_count": null,
      "outputs": [
        {
          "output_type": "stream",
          "text": [
            "Saving figure selu_plot\n"
          ],
          "name": "stdout"
        },
        {
          "output_type": "display_data",
          "data": {
            "image/png": "[encoded data removed]",
            "text/plain": [
              "<Figure size 432x288 with 1 Axes>"
            ]
          },
          "metadata": {
            "tags": [],
            "needs_background": "light"
          }
        }
      ]
    },
    {
      "cell_type": "markdown",
      "metadata": {
        "id": "YZWR1CjHK4cP"
      },
      "source": [
        "By default, the SELU hyperparameters (`scale` and `alpha`) are tuned in such a way that the mean output of each neuron remains close to 0, and the standard deviation remains close to 1 (assuming the inputs are standardized with mean 0 and standard deviation 1 too). Using this activation function, even a 1,000 layer deep neural network preserves roughly mean 0 and standard deviation 1 across all layers, avoiding the exploding/vanishing gradients problem:"
      ]
    },
    {
      "cell_type": "code",
      "metadata": {
        "id": "EV9p-e1hK4cP",
        "colab": {
          "base_uri": "https://localhost:8080/"
        },
        "outputId": "f6a50366-64cb-4b0b-c12c-35bada292c82"
      },
      "source": [
        "np.random.seed(42)\n",
        "Z = np.random.normal(size=(500, 100)) # standardized inputs\n",
        "for layer in range(1000):\n",
        "    W = np.random.normal(size=(100, 100), scale=np.sqrt(1 / 100)) # LeCun initialization\n",
        "    Z = selu(np.dot(Z, W))\n",
        "    means = np.mean(Z, axis=0).mean()\n",
        "    stds = np.std(Z, axis=0).mean()\n",
        "    if layer % 100 == 0:\n",
        "        print(\"Layer {}: mean {:.2f}, std deviation {:.2f}\".format(layer, means, stds))"
      ],
      "execution_count": 22,
      "outputs": [
        {
          "output_type": "stream",
          "name": "stdout",
          "text": [
            "Layer 0: mean -0.00, std deviation 1.00\n",
            "Layer 100: mean 0.02, std deviation 0.96\n",
            "Layer 200: mean 0.01, std deviation 0.90\n",
            "Layer 300: mean -0.02, std deviation 0.92\n",
            "Layer 400: mean 0.05, std deviation 0.89\n",
            "Layer 500: mean 0.01, std deviation 0.93\n",
            "Layer 600: mean 0.02, std deviation 0.92\n",
            "Layer 700: mean -0.02, std deviation 0.90\n",
            "Layer 800: mean 0.05, std deviation 0.83\n",
            "Layer 900: mean 0.02, std deviation 1.00\n"
          ]
        }
      ]
    },
    {
      "cell_type": "markdown",
      "metadata": {
        "id": "1rYi16WBK4cR"
      },
      "source": [
        "Using SELU is easy:"
      ]
    },
    {
      "cell_type": "code",
      "metadata": {
        "id": "ejEfMAlMK4cS",
        "colab": {
          "base_uri": "https://localhost:8080/"
        },
        "outputId": "7ab8352d-feab-4c31-dca0-89650d3f5f5b"
      },
      "source": [
        "keras.layers.Dense(10, activation=\"selu\",\n",
        "                   kernel_initializer=\"lecun_normal\")"
      ],
      "execution_count": 23,
      "outputs": [
        {
          "output_type": "execute_result",
          "data": {
            "text/plain": [
              "<keras.src.layers.core.dense.Dense at 0x784c7deb9900>"
            ]
          },
          "metadata": {},
          "execution_count": 23
        }
      ]
    },
    {
      "cell_type": "markdown",
      "metadata": {
        "id": "TzOTUNYEK4cU"
      },
      "source": [
        "Let's create a neural net for Fashion MNIST with 100 hidden layers, using the SELU activation function:"
      ]
    },
    {
      "cell_type": "code",
      "metadata": {
        "id": "t6IlS4FqK4cV"
      },
      "source": [
        "np.random.seed(42)\n",
        "tf.random.set_seed(42)"
      ],
      "execution_count": 24,
      "outputs": []
    },
    {
      "cell_type": "code",
      "metadata": {
        "id": "NF66xp5BK4cY"
      },
      "source": [
        "model = keras.models.Sequential()\n",
        "model.add(keras.layers.Flatten(input_shape=[28, 28]))\n",
        "model.add(keras.layers.Dense(300, activation=\"selu\",\n",
        "                             kernel_initializer=\"lecun_normal\"))\n",
        "for layer in range(99):\n",
        "    model.add(keras.layers.Dense(100, activation=\"selu\",\n",
        "                                 kernel_initializer=\"lecun_normal\"))\n",
        "model.add(keras.layers.Dense(10, activation=\"softmax\"))"
      ],
      "execution_count": 25,
      "outputs": []
    },
    {
      "cell_type": "code",
      "metadata": {
        "id": "5x5VQR20K4cb",
        "colab": {
          "base_uri": "https://localhost:8080/"
        },
        "outputId": "efaac432-3962-4cf4-cbba-a8daedc4b26e"
      },
      "source": [
        "model.compile(loss=\"sparse_categorical_crossentropy\",\n",
        "              optimizer=keras.optimizers.SGD(lr=1e-3),\n",
        "              metrics=[\"accuracy\"])"
      ],
      "execution_count": 26,
      "outputs": [
        {
          "output_type": "stream",
          "name": "stderr",
          "text": [
            "WARNING:absl:`lr` is deprecated in Keras optimizer, please use `learning_rate` or use the legacy optimizer, e.g.,tf.keras.optimizers.legacy.SGD.\n"
          ]
        }
      ]
    },
    {
      "cell_type": "markdown",
      "metadata": {
        "id": "nrojv40yK4cd"
      },
      "source": [
        "Now let's train it. Do not forget to scale the inputs to mean 0 and standard deviation 1:"
      ]
    },
    {
      "cell_type": "code",
      "metadata": {
        "id": "2R4aaJjnK4cd"
      },
      "source": [
        "pixel_means = X_train.mean(axis=0, keepdims=True)\n",
        "pixel_stds = X_train.std(axis=0, keepdims=True)\n",
        "X_train_scaled = (X_train - pixel_means) / pixel_stds\n",
        "X_valid_scaled = (X_valid - pixel_means) / pixel_stds\n",
        "X_test_scaled = (X_test - pixel_means) / pixel_stds"
      ],
      "execution_count": 27,
      "outputs": []
    },
    {
      "cell_type": "code",
      "metadata": {
        "id": "sWjukdhlK4cf",
        "colab": {
          "base_uri": "https://localhost:8080/"
        },
        "outputId": "78ea20b9-b251-4ed6-a981-22dbcd135216"
      },
      "source": [
        "history = model.fit(X_train_scaled, y_train, epochs=5,\n",
        "                    validation_data=(X_valid_scaled, y_valid))"
      ],
      "execution_count": 28,
      "outputs": [
        {
          "output_type": "stream",
          "name": "stdout",
          "text": [
            "Epoch 1/5\n",
            "1719/1719 [==============================] - 46s 22ms/step - loss: 2.3586 - accuracy: 0.1022 - val_loss: 2.3402 - val_accuracy: 0.0978\n",
            "Epoch 2/5\n",
            "1719/1719 [==============================] - 37s 22ms/step - loss: 1.7077 - accuracy: 0.3050 - val_loss: 1.4648 - val_accuracy: 0.3642\n",
            "Epoch 3/5\n",
            "1719/1719 [==============================] - 37s 21ms/step - loss: 1.5518 - accuracy: 0.3455 - val_loss: 1.3268 - val_accuracy: 0.4490\n",
            "Epoch 4/5\n",
            "1719/1719 [==============================] - 36s 21ms/step - loss: 1.3713 - accuracy: 0.4219 - val_loss: 1.2096 - val_accuracy: 0.5056\n",
            "Epoch 5/5\n",
            "1719/1719 [==============================] - 36s 21ms/step - loss: 1.2990 - accuracy: 0.4728 - val_loss: 1.3111 - val_accuracy: 0.4570\n"
          ]
        }
      ]
    },
    {
      "cell_type": "markdown",
      "metadata": {
        "id": "yJVUSKDWK4cg"
      },
      "source": [
        "Now look at what happens if we try to use the ReLU activation function instead:"
      ]
    },
    {
      "cell_type": "code",
      "metadata": {
        "id": "iMIruosmK4ch"
      },
      "source": [
        "np.random.seed(42)\n",
        "tf.random.set_seed(42)"
      ],
      "execution_count": 29,
      "outputs": []
    },
    {
      "cell_type": "code",
      "metadata": {
        "id": "uq8SbSgRK4ck"
      },
      "source": [
        "model = keras.models.Sequential()\n",
        "model.add(keras.layers.Flatten(input_shape=[28, 28]))\n",
        "model.add(keras.layers.Dense(300, activation=\"relu\", kernel_initializer=\"he_normal\"))\n",
        "for layer in range(99):\n",
        "    model.add(keras.layers.Dense(100, activation=\"relu\", kernel_initializer=\"he_normal\"))\n",
        "model.add(keras.layers.Dense(10, activation=\"softmax\"))"
      ],
      "execution_count": 30,
      "outputs": []
    },
    {
      "cell_type": "code",
      "metadata": {
        "id": "Bjd2ENagK4cm",
        "colab": {
          "base_uri": "https://localhost:8080/"
        },
        "outputId": "ca418f0e-76a6-4638-9cb2-c51bb8c5cb0c"
      },
      "source": [
        "model.compile(loss=\"sparse_categorical_crossentropy\",\n",
        "              optimizer=keras.optimizers.SGD(lr=1e-3),\n",
        "              metrics=[\"accuracy\"])"
      ],
      "execution_count": 31,
      "outputs": [
        {
          "output_type": "stream",
          "name": "stderr",
          "text": [
            "WARNING:absl:`lr` is deprecated in Keras optimizer, please use `learning_rate` or use the legacy optimizer, e.g.,tf.keras.optimizers.legacy.SGD.\n"
          ]
        }
      ]
    },
    {
      "cell_type": "code",
      "metadata": {
        "id": "KlXvBx5zK4cq",
        "colab": {
          "base_uri": "https://localhost:8080/"
        },
        "outputId": "622538ab-47ad-4678-d6c8-0fb66cbf204b"
      },
      "source": [
        "history = model.fit(X_train_scaled, y_train, epochs=5,\n",
        "                    validation_data=(X_valid_scaled, y_valid))"
      ],
      "execution_count": 32,
      "outputs": [
        {
          "output_type": "stream",
          "name": "stdout",
          "text": [
            "Epoch 1/5\n",
            "1719/1719 [==============================] - 44s 21ms/step - loss: 2.1720 - accuracy: 0.1511 - val_loss: 1.9105 - val_accuracy: 0.1984\n",
            "Epoch 2/5\n",
            "1719/1719 [==============================] - 35s 20ms/step - loss: 1.6818 - accuracy: 0.2576 - val_loss: 1.3485 - val_accuracy: 0.3488\n",
            "Epoch 3/5\n",
            "1719/1719 [==============================] - 35s 20ms/step - loss: 1.4178 - accuracy: 0.3790 - val_loss: 1.8466 - val_accuracy: 0.2828\n",
            "Epoch 4/5\n",
            "1719/1719 [==============================] - 34s 20ms/step - loss: 1.0921 - accuracy: 0.4965 - val_loss: 0.9495 - val_accuracy: 0.5536\n",
            "Epoch 5/5\n",
            "1719/1719 [==============================] - 35s 20ms/step - loss: 0.9689 - accuracy: 0.5755 - val_loss: 0.7692 - val_accuracy: 0.7238\n"
          ]
        }
      ]
    },
    {
      "cell_type": "markdown",
      "metadata": {
        "id": "9ST1-SPVK4cr"
      },
      "source": [
        "Not great at all, we suffered from the vanishing/exploding gradients problem."
      ]
    },
    {
      "cell_type": "markdown",
      "metadata": {
        "id": "cWLzCFoYK4cs"
      },
      "source": [
        "# Batch Normalization"
      ]
    },
    {
      "cell_type": "code",
      "metadata": {
        "id": "HjYRfaCKK4ct"
      },
      "source": [
        "model = keras.models.Sequential([\n",
        "    keras.layers.Flatten(input_shape=[28, 28]),\n",
        "    keras.layers.BatchNormalization(),\n",
        "    keras.layers.Dense(300, activation=\"relu\"),\n",
        "    keras.layers.BatchNormalization(),\n",
        "    keras.layers.Dense(100, activation=\"relu\"),\n",
        "    keras.layers.BatchNormalization(),\n",
        "    keras.layers.Dense(10, activation=\"softmax\")\n",
        "])"
      ],
      "execution_count": 33,
      "outputs": []
    },
    {
      "cell_type": "code",
      "metadata": {
        "id": "ev_Ydkh4K4cu",
        "colab": {
          "base_uri": "https://localhost:8080/"
        },
        "outputId": "43aabc76-1e50-4e77-f8cf-a525e842e01a"
      },
      "source": [
        "model.summary()"
      ],
      "execution_count": 34,
      "outputs": [
        {
          "output_type": "stream",
          "name": "stdout",
          "text": [
            "Model: \"sequential_4\"\n",
            "_________________________________________________________________\n",
            " Layer (type)                Output Shape              Param #   \n",
            "=================================================================\n",
            " flatten_4 (Flatten)         (None, 784)               0         \n",
            "                                                                 \n",
            " batch_normalization (Batch  (None, 784)               3136      \n",
            " Normalization)                                                  \n",
            "                                                                 \n",
            " dense_212 (Dense)           (None, 300)               235500    \n",
            "                                                                 \n",
            " batch_normalization_1 (Bat  (None, 300)               1200      \n",
            " chNormalization)                                                \n",
            "                                                                 \n",
            " dense_213 (Dense)           (None, 100)               30100     \n",
            "                                                                 \n",
            " batch_normalization_2 (Bat  (None, 100)               400       \n",
            " chNormalization)                                                \n",
            "                                                                 \n",
            " dense_214 (Dense)           (None, 10)                1010      \n",
            "                                                                 \n",
            "=================================================================\n",
            "Total params: 271346 (1.04 MB)\n",
            "Trainable params: 268978 (1.03 MB)\n",
            "Non-trainable params: 2368 (9.25 KB)\n",
            "_________________________________________________________________\n"
          ]
        }
      ]
    },
    {
      "cell_type": "code",
      "metadata": {
        "id": "WHeTmynAK4cw",
        "colab": {
          "base_uri": "https://localhost:8080/"
        },
        "outputId": "6ae0d74a-0e7d-47fc-d318-e65b208d63b6"
      },
      "source": [
        "bn1 = model.layers[1]\n",
        "[(var.name, var.trainable) for var in bn1.variables]"
      ],
      "execution_count": 35,
      "outputs": [
        {
          "output_type": "execute_result",
          "data": {
            "text/plain": [
              "[('batch_normalization/gamma:0', True),\n",
              " ('batch_normalization/beta:0', True),\n",
              " ('batch_normalization/moving_mean:0', False),\n",
              " ('batch_normalization/moving_variance:0', False)]"
            ]
          },
          "metadata": {},
          "execution_count": 35
        }
      ]
    },
    {
      "cell_type": "code",
      "metadata": {
        "id": "ULn4IDJJK4c2",
        "colab": {
          "base_uri": "https://localhost:8080/"
        },
        "outputId": "48cbea0e-5955-4310-a9d6-29fb0551f1a7"
      },
      "source": [
        "model.compile(loss=\"sparse_categorical_crossentropy\",\n",
        "              optimizer=keras.optimizers.SGD(lr=1e-3),\n",
        "              metrics=[\"accuracy\"])"
      ],
      "execution_count": 36,
      "outputs": [
        {
          "output_type": "stream",
          "name": "stderr",
          "text": [
            "WARNING:absl:`lr` is deprecated in Keras optimizer, please use `learning_rate` or use the legacy optimizer, e.g.,tf.keras.optimizers.legacy.SGD.\n"
          ]
        }
      ]
    },
    {
      "cell_type": "code",
      "metadata": {
        "id": "_q9af4H5K4c4",
        "colab": {
          "base_uri": "https://localhost:8080/"
        },
        "outputId": "f8d7882d-5089-498e-f436-774d8c08637d"
      },
      "source": [
        "history = model.fit(X_train, y_train, epochs=10,\n",
        "                    validation_data=(X_valid, y_valid))"
      ],
      "execution_count": 37,
      "outputs": [
        {
          "output_type": "stream",
          "name": "stdout",
          "text": [
            "Epoch 1/10\n",
            "1719/1719 [==============================] - 13s 7ms/step - loss: 0.5322 - accuracy: 0.8152 - val_loss: 0.3840 - val_accuracy: 0.8660\n",
            "Epoch 2/10\n",
            "1719/1719 [==============================] - 12s 7ms/step - loss: 0.3927 - accuracy: 0.8603 - val_loss: 0.3447 - val_accuracy: 0.8752\n",
            "Epoch 3/10\n",
            "1719/1719 [==============================] - 12s 7ms/step - loss: 0.3573 - accuracy: 0.8708 - val_loss: 0.3399 - val_accuracy: 0.8750\n",
            "Epoch 4/10\n",
            "1719/1719 [==============================] - 12s 7ms/step - loss: 0.3264 - accuracy: 0.8825 - val_loss: 0.3230 - val_accuracy: 0.8840\n",
            "Epoch 5/10\n",
            "1719/1719 [==============================] - 12s 7ms/step - loss: 0.3048 - accuracy: 0.8893 - val_loss: 0.3128 - val_accuracy: 0.8890\n",
            "Epoch 6/10\n",
            "1719/1719 [==============================] - 12s 7ms/step - loss: 0.2881 - accuracy: 0.8946 - val_loss: 0.3130 - val_accuracy: 0.8874\n",
            "Epoch 7/10\n",
            "1719/1719 [==============================] - 12s 7ms/step - loss: 0.2747 - accuracy: 0.9003 - val_loss: 0.3058 - val_accuracy: 0.8902\n",
            "Epoch 8/10\n",
            "1719/1719 [==============================] - 12s 7ms/step - loss: 0.2619 - accuracy: 0.9032 - val_loss: 0.3068 - val_accuracy: 0.8866\n",
            "Epoch 9/10\n",
            "1719/1719 [==============================] - 12s 7ms/step - loss: 0.2485 - accuracy: 0.9087 - val_loss: 0.3126 - val_accuracy: 0.8898\n",
            "Epoch 10/10\n",
            "1719/1719 [==============================] - 12s 7ms/step - loss: 0.2397 - accuracy: 0.9119 - val_loss: 0.3051 - val_accuracy: 0.8908\n"
          ]
        }
      ]
    },
    {
      "cell_type": "markdown",
      "metadata": {
        "id": "5anJTo-qK4c6"
      },
      "source": [
        "Sometimes applying BN before the activation function works better (there's a debate on this topic). Moreover, the layer before a `BatchNormalization` layer does not need to have bias terms, since the `BatchNormalization` layer some as well, it would be a waste of parameters, so you can set `use_bias=False` when creating those layers:"
      ]
    },
    {
      "cell_type": "code",
      "metadata": {
        "id": "d-5qZrsJK4c6"
      },
      "source": [
        "model = keras.models.Sequential([\n",
        "    keras.layers.Flatten(input_shape=[28, 28]),\n",
        "    keras.layers.BatchNormalization(),\n",
        "    keras.layers.Dense(300, use_bias=False),\n",
        "    keras.layers.BatchNormalization(),\n",
        "    keras.layers.Activation(\"relu\"),\n",
        "    keras.layers.Dense(100, use_bias=False),\n",
        "    keras.layers.Activation(\"relu\"),\n",
        "    keras.layers.BatchNormalization(),\n",
        "    keras.layers.Dense(10, activation=\"softmax\")\n",
        "])"
      ],
      "execution_count": 38,
      "outputs": []
    },
    {
      "cell_type": "code",
      "metadata": {
        "id": "ixw9Cfr6K4c7",
        "colab": {
          "base_uri": "https://localhost:8080/"
        },
        "outputId": "a05f5cc1-75cb-4e37-ed8b-2c12c3a87848"
      },
      "source": [
        "model.compile(loss=\"sparse_categorical_crossentropy\",\n",
        "              optimizer=keras.optimizers.SGD(lr=1e-3),\n",
        "              metrics=[\"accuracy\"])"
      ],
      "execution_count": 39,
      "outputs": [
        {
          "output_type": "stream",
          "name": "stderr",
          "text": [
            "WARNING:absl:`lr` is deprecated in Keras optimizer, please use `learning_rate` or use the legacy optimizer, e.g.,tf.keras.optimizers.legacy.SGD.\n"
          ]
        }
      ]
    },
    {
      "cell_type": "code",
      "metadata": {
        "id": "nWAiv7niK4c-",
        "outputId": "83ad9b73-8ad7-4aa8-9a4a-acdc20ae6419",
        "colab": {
          "base_uri": "https://localhost:8080/"
        }
      },
      "source": [
        "history = model.fit(X_train, y_train, epochs=10,\n",
        "                    validation_data=(X_valid, y_valid))"
      ],
      "execution_count": 40,
      "outputs": [
        {
          "output_type": "stream",
          "name": "stdout",
          "text": [
            "Epoch 1/10\n",
            "1719/1719 [==============================] - 13s 7ms/step - loss: 0.5348 - accuracy: 0.8127 - val_loss: 0.3871 - val_accuracy: 0.8628\n",
            "Epoch 2/10\n",
            "1719/1719 [==============================] - 12s 7ms/step - loss: 0.3939 - accuracy: 0.8574 - val_loss: 0.3470 - val_accuracy: 0.8802\n",
            "Epoch 3/10\n",
            "1719/1719 [==============================] - 12s 7ms/step - loss: 0.3554 - accuracy: 0.8729 - val_loss: 0.3421 - val_accuracy: 0.8782\n",
            "Epoch 4/10\n",
            "1719/1719 [==============================] - 12s 7ms/step - loss: 0.3248 - accuracy: 0.8815 - val_loss: 0.3241 - val_accuracy: 0.8822\n",
            "Epoch 5/10\n",
            "1719/1719 [==============================] - 12s 7ms/step - loss: 0.3058 - accuracy: 0.8894 - val_loss: 0.3143 - val_accuracy: 0.8898\n",
            "Epoch 6/10\n",
            "1719/1719 [==============================] - 12s 7ms/step - loss: 0.2885 - accuracy: 0.8949 - val_loss: 0.3186 - val_accuracy: 0.8848\n",
            "Epoch 7/10\n",
            "1719/1719 [==============================] - 12s 7ms/step - loss: 0.2755 - accuracy: 0.8999 - val_loss: 0.3158 - val_accuracy: 0.8868\n",
            "Epoch 8/10\n",
            "1719/1719 [==============================] - 12s 7ms/step - loss: 0.2621 - accuracy: 0.9036 - val_loss: 0.3134 - val_accuracy: 0.8864\n",
            "Epoch 9/10\n",
            "1719/1719 [==============================] - 12s 7ms/step - loss: 0.2499 - accuracy: 0.9090 - val_loss: 0.3097 - val_accuracy: 0.8912\n",
            "Epoch 10/10\n",
            "1719/1719 [==============================] - 11s 7ms/step - loss: 0.2392 - accuracy: 0.9122 - val_loss: 0.3031 - val_accuracy: 0.8922\n"
          ]
        }
      ]
    },
    {
      "cell_type": "markdown",
      "metadata": {
        "id": "d06EeWtaK4c_"
      },
      "source": [
        "## Gradient Clipping"
      ]
    },
    {
      "cell_type": "markdown",
      "metadata": {
        "id": "XCa7uJZOK4dA"
      },
      "source": [
        "All Keras optimizers accept `clipnorm` or `clipvalue` arguments:"
      ]
    },
    {
      "cell_type": "code",
      "metadata": {
        "id": "uSrBjM0-K4dA"
      },
      "source": [
        "optimizer = keras.optimizers.SGD(clipvalue=1.0)"
      ],
      "execution_count": 41,
      "outputs": []
    },
    {
      "cell_type": "code",
      "metadata": {
        "id": "w60mVprwK4dC"
      },
      "source": [
        "optimizer = keras.optimizers.SGD(clipnorm=1.0)"
      ],
      "execution_count": 42,
      "outputs": []
    },
    {
      "cell_type": "markdown",
      "metadata": {
        "id": "dLmbohdJK4dr"
      },
      "source": [
        "# Faster Optimizers"
      ]
    },
    {
      "cell_type": "markdown",
      "metadata": {
        "id": "2Y2uoER5K4ds"
      },
      "source": [
        "## Momentum optimization"
      ]
    },
    {
      "cell_type": "code",
      "metadata": {
        "id": "BwnMruxiK4ds",
        "colab": {
          "base_uri": "https://localhost:8080/"
        },
        "outputId": "4ce95081-dd8d-4edf-f4dc-d7dc7d3eb292"
      },
      "source": [
        "optimizer = keras.optimizers.SGD(lr=0.001, momentum=0.9)"
      ],
      "execution_count": 43,
      "outputs": [
        {
          "output_type": "stream",
          "name": "stderr",
          "text": [
            "WARNING:absl:`lr` is deprecated in Keras optimizer, please use `learning_rate` or use the legacy optimizer, e.g.,tf.keras.optimizers.legacy.SGD.\n"
          ]
        }
      ]
    },
    {
      "cell_type": "markdown",
      "metadata": {
        "id": "SGIuKw6VK4dt"
      },
      "source": [
        "## Nesterov Accelerated Gradient"
      ]
    },
    {
      "cell_type": "code",
      "metadata": {
        "id": "7DM57PEGK4du",
        "colab": {
          "base_uri": "https://localhost:8080/"
        },
        "outputId": "16cf9551-8c3b-463d-fbb0-66ffd56478d9"
      },
      "source": [
        "optimizer = keras.optimizers.SGD(lr=0.001, momentum=0.9, nesterov=True)"
      ],
      "execution_count": 44,
      "outputs": [
        {
          "output_type": "stream",
          "name": "stderr",
          "text": [
            "WARNING:absl:`lr` is deprecated in Keras optimizer, please use `learning_rate` or use the legacy optimizer, e.g.,tf.keras.optimizers.legacy.SGD.\n"
          ]
        }
      ]
    },
    {
      "cell_type": "markdown",
      "metadata": {
        "id": "mFyoXFspK4dv"
      },
      "source": [
        "## AdaGrad"
      ]
    },
    {
      "cell_type": "code",
      "metadata": {
        "id": "ZbVn-u1OK4dw",
        "colab": {
          "base_uri": "https://localhost:8080/"
        },
        "outputId": "96640a00-b8ff-476c-dd7b-c36ee3098002"
      },
      "source": [
        "optimizer = keras.optimizers.Adagrad(lr=0.001)"
      ],
      "execution_count": 45,
      "outputs": [
        {
          "output_type": "stream",
          "name": "stderr",
          "text": [
            "WARNING:absl:`lr` is deprecated in Keras optimizer, please use `learning_rate` or use the legacy optimizer, e.g.,tf.keras.optimizers.legacy.Adagrad.\n"
          ]
        }
      ]
    },
    {
      "cell_type": "markdown",
      "metadata": {
        "id": "TNX9dMjkK4dx"
      },
      "source": [
        "## RMSProp"
      ]
    },
    {
      "cell_type": "code",
      "metadata": {
        "id": "g0us836EK4dx",
        "colab": {
          "base_uri": "https://localhost:8080/"
        },
        "outputId": "906c0adb-8a5f-4b83-f0db-943a4ffb906a"
      },
      "source": [
        "optimizer = keras.optimizers.RMSprop(lr=0.001, rho=0.9)"
      ],
      "execution_count": 46,
      "outputs": [
        {
          "output_type": "stream",
          "name": "stderr",
          "text": [
            "WARNING:absl:`lr` is deprecated in Keras optimizer, please use `learning_rate` or use the legacy optimizer, e.g.,tf.keras.optimizers.legacy.RMSprop.\n"
          ]
        }
      ]
    },
    {
      "cell_type": "markdown",
      "metadata": {
        "id": "Ki0VfrqUK4dz"
      },
      "source": [
        "## Adam Optimization"
      ]
    },
    {
      "cell_type": "code",
      "metadata": {
        "id": "tLud7Cx-K4dz",
        "colab": {
          "base_uri": "https://localhost:8080/"
        },
        "outputId": "2fa0e26b-0baf-4c7b-97d5-df017f6cd18f"
      },
      "source": [
        "optimizer = keras.optimizers.Adam(lr=0.001, beta_1=0.9, beta_2=0.999)"
      ],
      "execution_count": 47,
      "outputs": [
        {
          "output_type": "stream",
          "name": "stderr",
          "text": [
            "WARNING:absl:`lr` is deprecated in Keras optimizer, please use `learning_rate` or use the legacy optimizer, e.g.,tf.keras.optimizers.legacy.Adam.\n"
          ]
        }
      ]
    },
    {
      "cell_type": "markdown",
      "metadata": {
        "id": "p_4lrxC_K4d4"
      },
      "source": [
        "## Adamax Optimization"
      ]
    },
    {
      "cell_type": "code",
      "metadata": {
        "id": "mfyLvDGIK4d4",
        "colab": {
          "base_uri": "https://localhost:8080/"
        },
        "outputId": "52558a31-64b4-40f3-8366-0b345e22015c"
      },
      "source": [
        "optimizer = keras.optimizers.Adamax(lr=0.001, beta_1=0.9, beta_2=0.999)"
      ],
      "execution_count": 48,
      "outputs": [
        {
          "output_type": "stream",
          "name": "stderr",
          "text": [
            "WARNING:absl:`lr` is deprecated in Keras optimizer, please use `learning_rate` or use the legacy optimizer, e.g.,tf.keras.optimizers.legacy.Adamax.\n"
          ]
        }
      ]
    },
    {
      "cell_type": "markdown",
      "metadata": {
        "id": "bPOqre6iK4d6"
      },
      "source": [
        "## Nadam Optimization"
      ]
    },
    {
      "cell_type": "code",
      "metadata": {
        "id": "qfGePg7PK4d7",
        "colab": {
          "base_uri": "https://localhost:8080/"
        },
        "outputId": "ba6ea13c-8b46-4f26-ac80-65ebcd646cec"
      },
      "source": [
        "optimizer = keras.optimizers.Nadam(lr=0.001, beta_1=0.9, beta_2=0.999)"
      ],
      "execution_count": 49,
      "outputs": [
        {
          "output_type": "stream",
          "name": "stderr",
          "text": [
            "WARNING:absl:`lr` is deprecated in Keras optimizer, please use `learning_rate` or use the legacy optimizer, e.g.,tf.keras.optimizers.legacy.Nadam.\n"
          ]
        }
      ]
    },
    {
      "cell_type": "markdown",
      "metadata": {
        "id": "rtRIE8LKK4d8"
      },
      "source": [
        "# Learning Rate Scheduling"
      ]
    },
    {
      "cell_type": "markdown",
      "metadata": {
        "id": "Tnvc8OlvK4d9"
      },
      "source": [
        "### Power Scheduling"
      ]
    },
    {
      "cell_type": "markdown",
      "metadata": {
        "id": "pE4hyF9aK4d9"
      },
      "source": [
        "```lr = lr0 / (1 + steps / s)**c```\n",
        "* Keras uses `c=1` and `s = 1 / decay`"
      ]
    },
    {
      "cell_type": "code",
      "source": [
        "optimizer = tf.keras.optimizers.legacy.SGD(learning_rate=0.01, decay=1e-4)"
      ],
      "metadata": {
        "id": "KivekUY3Fiw-"
      },
      "execution_count": 54,
      "outputs": []
    },
    {
      "cell_type": "code",
      "metadata": {
        "id": "0VBi66X1K4d_"
      },
      "source": [
        "model = keras.models.Sequential([\n",
        "    keras.layers.Flatten(input_shape=[28, 28]),\n",
        "    keras.layers.Dense(300, activation=\"selu\", kernel_initializer=\"lecun_normal\"),\n",
        "    keras.layers.Dense(100, activation=\"selu\", kernel_initializer=\"lecun_normal\"),\n",
        "    keras.layers.Dense(10, activation=\"softmax\")\n",
        "])\n",
        "model.compile(loss=\"sparse_categorical_crossentropy\", optimizer=optimizer, metrics=[\"accuracy\"])"
      ],
      "execution_count": 55,
      "outputs": []
    },
    {
      "cell_type": "code",
      "metadata": {
        "id": "JVjxWkgyK4eB",
        "outputId": "479f3c12-4c8d-49f4-936f-20ed9d51fae8",
        "colab": {
          "base_uri": "https://localhost:8080/"
        }
      },
      "source": [
        "n_epochs = 25\n",
        "history = model.fit(X_train_scaled, y_train, epochs=n_epochs,\n",
        "                    validation_data=(X_valid_scaled, y_valid))"
      ],
      "execution_count": 56,
      "outputs": [
        {
          "output_type": "stream",
          "name": "stdout",
          "text": [
            "Epoch 1/25\n",
            "1719/1719 [==============================] - 9s 5ms/step - loss: 0.4831 - accuracy: 0.8310 - val_loss: 0.4001 - val_accuracy: 0.8622\n",
            "Epoch 2/25\n",
            "1719/1719 [==============================] - 8s 5ms/step - loss: 0.3761 - accuracy: 0.8661 - val_loss: 0.3695 - val_accuracy: 0.8696\n",
            "Epoch 3/25\n",
            "1719/1719 [==============================] - 8s 4ms/step - loss: 0.3437 - accuracy: 0.8773 - val_loss: 0.3724 - val_accuracy: 0.8692\n",
            "Epoch 4/25\n",
            "1719/1719 [==============================] - 8s 5ms/step - loss: 0.3232 - accuracy: 0.8845 - val_loss: 0.3486 - val_accuracy: 0.8782\n",
            "Epoch 5/25\n",
            "1719/1719 [==============================] - 7s 4ms/step - loss: 0.3082 - accuracy: 0.8899 - val_loss: 0.3432 - val_accuracy: 0.8758\n",
            "Epoch 6/25\n",
            "1719/1719 [==============================] - 8s 5ms/step - loss: 0.2948 - accuracy: 0.8949 - val_loss: 0.3419 - val_accuracy: 0.8780\n",
            "Epoch 7/25\n",
            "1719/1719 [==============================] - 9s 5ms/step - loss: 0.2852 - accuracy: 0.8978 - val_loss: 0.3364 - val_accuracy: 0.8784\n",
            "Epoch 8/25\n",
            "1719/1719 [==============================] - 7s 4ms/step - loss: 0.2764 - accuracy: 0.9014 - val_loss: 0.3411 - val_accuracy: 0.8766\n",
            "Epoch 9/25\n",
            "1719/1719 [==============================] - 10s 6ms/step - loss: 0.2684 - accuracy: 0.9035 - val_loss: 0.3317 - val_accuracy: 0.8808\n",
            "Epoch 10/25\n",
            "1719/1719 [==============================] - 9s 5ms/step - loss: 0.2614 - accuracy: 0.9064 - val_loss: 0.3275 - val_accuracy: 0.8800\n",
            "Epoch 11/25\n",
            "1719/1719 [==============================] - 7s 4ms/step - loss: 0.2559 - accuracy: 0.9082 - val_loss: 0.3284 - val_accuracy: 0.8822\n",
            "Epoch 12/25\n",
            "1719/1719 [==============================] - 9s 5ms/step - loss: 0.2502 - accuracy: 0.9108 - val_loss: 0.3362 - val_accuracy: 0.8796\n",
            "Epoch 13/25\n",
            "1719/1719 [==============================] - 7s 4ms/step - loss: 0.2451 - accuracy: 0.9126 - val_loss: 0.3271 - val_accuracy: 0.8840\n",
            "Epoch 14/25\n",
            "1719/1719 [==============================] - 8s 5ms/step - loss: 0.2411 - accuracy: 0.9140 - val_loss: 0.3305 - val_accuracy: 0.8854\n",
            "Epoch 15/25\n",
            "1719/1719 [==============================] - 8s 5ms/step - loss: 0.2362 - accuracy: 0.9158 - val_loss: 0.3264 - val_accuracy: 0.8820\n",
            "Epoch 16/25\n",
            "1719/1719 [==============================] - 7s 4ms/step - loss: 0.2324 - accuracy: 0.9179 - val_loss: 0.3238 - val_accuracy: 0.8828\n",
            "Epoch 17/25\n",
            "1719/1719 [==============================] - 8s 5ms/step - loss: 0.2289 - accuracy: 0.9185 - val_loss: 0.3274 - val_accuracy: 0.8834\n",
            "Epoch 18/25\n",
            "1719/1719 [==============================] - 9s 5ms/step - loss: 0.2250 - accuracy: 0.9206 - val_loss: 0.3230 - val_accuracy: 0.8860\n",
            "Epoch 19/25\n",
            "1719/1719 [==============================] - 8s 5ms/step - loss: 0.2220 - accuracy: 0.9212 - val_loss: 0.3264 - val_accuracy: 0.8846\n",
            "Epoch 20/25\n",
            "1719/1719 [==============================] - 9s 5ms/step - loss: 0.2189 - accuracy: 0.9228 - val_loss: 0.3248 - val_accuracy: 0.8852\n",
            "Epoch 21/25\n",
            "1719/1719 [==============================] - 8s 5ms/step - loss: 0.2155 - accuracy: 0.9246 - val_loss: 0.3260 - val_accuracy: 0.8834\n",
            "Epoch 22/25\n",
            "1719/1719 [==============================] - 7s 4ms/step - loss: 0.2131 - accuracy: 0.9246 - val_loss: 0.3226 - val_accuracy: 0.8856\n",
            "Epoch 23/25\n",
            "1719/1719 [==============================] - 9s 5ms/step - loss: 0.2103 - accuracy: 0.9255 - val_loss: 0.3241 - val_accuracy: 0.8852\n",
            "Epoch 24/25\n",
            "1719/1719 [==============================] - 8s 5ms/step - loss: 0.2075 - accuracy: 0.9277 - val_loss: 0.3246 - val_accuracy: 0.8842\n",
            "Epoch 25/25\n",
            "1719/1719 [==============================] - 7s 4ms/step - loss: 0.2055 - accuracy: 0.9277 - val_loss: 0.3249 - val_accuracy: 0.8880\n"
          ]
        }
      ]
    },
    {
      "cell_type": "code",
      "metadata": {
        "id": "Wgv2DaI6K4eC",
        "outputId": "2c0fcdcc-0882-4423-b058-f1e9889ad072",
        "colab": {
          "base_uri": "https://localhost:8080/",
          "height": 482
        }
      },
      "source": [
        "learning_rate = 0.01\n",
        "decay = 1e-4\n",
        "batch_size = 32\n",
        "n_steps_per_epoch = len(X_train) // batch_size\n",
        "epochs = np.arange(n_epochs)\n",
        "lrs = learning_rate / (1 + decay * epochs * n_steps_per_epoch)\n",
        "\n",
        "plt.plot(epochs, lrs,  \"o-\")\n",
        "plt.axis([0, n_epochs - 1, 0, 0.01])\n",
        "plt.xlabel(\"Epoch\")\n",
        "plt.ylabel(\"Learning Rate\")\n",
        "plt.title(\"Power Scheduling\", fontsize=14)\n",
        "plt.grid(True)\n",
        "plt.show()"
      ],
      "execution_count": 57,
      "outputs": [
        {
          "output_type": "display_data",
          "data": {
            "text/plain": [
              "<Figure size 640x480 with 1 Axes>"
            ],
            "image/png": "[encoded data removed]"
          },
          "metadata": {}
        }
      ]
    },
    {
      "cell_type": "markdown",
      "metadata": {
        "id": "mgsOs5ftK4eD"
      },
      "source": [
        "### Exponential Scheduling"
      ]
    },
    {
      "cell_type": "markdown",
      "metadata": {
        "id": "eYvUcz2wK4eE"
      },
      "source": [
        "```lr = lr0 * 0.1**(epoch / s)```"
      ]
    },
    {
      "cell_type": "code",
      "metadata": {
        "id": "-WgOoBsJK4eF"
      },
      "source": [
        "def exponential_decay_fn(epoch):\n",
        "    return 0.01 * 0.1**(epoch / 20)"
      ],
      "execution_count": 58,
      "outputs": []
    },
    {
      "cell_type": "code",
      "metadata": {
        "id": "BHK1sfxOK4eI"
      },
      "source": [
        "def exponential_decay(lr0, s):\n",
        "    def exponential_decay_fn(epoch):\n",
        "        return lr0 * 0.1**(epoch / s)\n",
        "    return exponential_decay_fn\n",
        "\n",
        "exponential_decay_fn = exponential_decay(lr0=0.01, s=20)"
      ],
      "execution_count": 59,
      "outputs": []
    },
    {
      "cell_type": "code",
      "metadata": {
        "id": "z5TMYPGhK4eL"
      },
      "source": [
        "model = keras.models.Sequential([\n",
        "    keras.layers.Flatten(input_shape=[28, 28]),\n",
        "    keras.layers.Dense(300, activation=\"selu\", kernel_initializer=\"lecun_normal\"),\n",
        "    keras.layers.Dense(100, activation=\"selu\", kernel_initializer=\"lecun_normal\"),\n",
        "    keras.layers.Dense(10, activation=\"softmax\")\n",
        "])\n",
        "model.compile(loss=\"sparse_categorical_crossentropy\", optimizer=\"nadam\", metrics=[\"accuracy\"])\n",
        "n_epochs = 25"
      ],
      "execution_count": 60,
      "outputs": []
    },
    {
      "cell_type": "code",
      "metadata": {
        "id": "F1DxrZdQK4eO",
        "outputId": "3572f831-93d6-4d5d-851c-d3e1573a5f9f",
        "colab": {
          "base_uri": "https://localhost:8080/"
        }
      },
      "source": [
        "lr_scheduler = keras.callbacks.LearningRateScheduler(exponential_decay_fn)\n",
        "history = model.fit(X_train_scaled, y_train, epochs=n_epochs,\n",
        "                    validation_data=(X_valid_scaled, y_valid),\n",
        "                    callbacks=[lr_scheduler])"
      ],
      "execution_count": 61,
      "outputs": [
        {
          "output_type": "stream",
          "name": "stdout",
          "text": [
            "Epoch 1/25\n",
            "1719/1719 [==============================] - 23s 11ms/step - loss: 0.7475 - accuracy: 0.7773 - val_loss: 0.7344 - val_accuracy: 0.7874 - lr: 0.0100\n",
            "Epoch 2/25\n",
            "1719/1719 [==============================] - 12s 7ms/step - loss: 0.7028 - accuracy: 0.7895 - val_loss: 0.7931 - val_accuracy: 0.7484 - lr: 0.0089\n",
            "Epoch 3/25\n",
            "1719/1719 [==============================] - 12s 7ms/step - loss: 0.6696 - accuracy: 0.7969 - val_loss: 0.9201 - val_accuracy: 0.7594 - lr: 0.0079\n",
            "Epoch 4/25\n",
            "1719/1719 [==============================] - 12s 7ms/step - loss: 0.6252 - accuracy: 0.8129 - val_loss: 0.5326 - val_accuracy: 0.8342 - lr: 0.0071\n",
            "Epoch 5/25\n",
            "1719/1719 [==============================] - 13s 7ms/step - loss: 0.5045 - accuracy: 0.8425 - val_loss: 0.5245 - val_accuracy: 0.8422 - lr: 0.0063\n",
            "Epoch 6/25\n",
            "1719/1719 [==============================] - 13s 7ms/step - loss: 0.4915 - accuracy: 0.8477 - val_loss: 0.4987 - val_accuracy: 0.8488 - lr: 0.0056\n",
            "Epoch 7/25\n",
            "1719/1719 [==============================] - 13s 7ms/step - loss: 0.4616 - accuracy: 0.8556 - val_loss: 0.5542 - val_accuracy: 0.8482 - lr: 0.0050\n",
            "Epoch 8/25\n",
            "1719/1719 [==============================] - 13s 7ms/step - loss: 0.4134 - accuracy: 0.8673 - val_loss: 0.5288 - val_accuracy: 0.8228 - lr: 0.0045\n",
            "Epoch 9/25\n",
            "1719/1719 [==============================] - 13s 8ms/step - loss: 0.3934 - accuracy: 0.8729 - val_loss: 0.5171 - val_accuracy: 0.8574 - lr: 0.0040\n",
            "Epoch 10/25\n",
            "1719/1719 [==============================] - 13s 8ms/step - loss: 0.3501 - accuracy: 0.8831 - val_loss: 0.4754 - val_accuracy: 0.8668 - lr: 0.0035\n",
            "Epoch 11/25\n",
            "1719/1719 [==============================] - 12s 7ms/step - loss: 0.3349 - accuracy: 0.8867 - val_loss: 0.4581 - val_accuracy: 0.8740 - lr: 0.0032\n",
            "Epoch 12/25\n",
            "1719/1719 [==============================] - 12s 7ms/step - loss: 0.3166 - accuracy: 0.8945 - val_loss: 0.4893 - val_accuracy: 0.8628 - lr: 0.0028\n",
            "Epoch 13/25\n",
            "1719/1719 [==============================] - 12s 7ms/step - loss: 0.2888 - accuracy: 0.9001 - val_loss: 0.4792 - val_accuracy: 0.8772 - lr: 0.0025\n",
            "Epoch 14/25\n",
            "1719/1719 [==============================] - 13s 7ms/step - loss: 0.2643 - accuracy: 0.9074 - val_loss: 0.4459 - val_accuracy: 0.8802 - lr: 0.0022\n",
            "Epoch 15/25\n",
            "1719/1719 [==============================] - 13s 7ms/step - loss: 0.2503 - accuracy: 0.9139 - val_loss: 0.4816 - val_accuracy: 0.8820 - lr: 0.0020\n",
            "Epoch 16/25\n",
            "1719/1719 [==============================] - 13s 7ms/step - loss: 0.2287 - accuracy: 0.9203 - val_loss: 0.4669 - val_accuracy: 0.8842 - lr: 0.0018\n",
            "Epoch 17/25\n",
            "1719/1719 [==============================] - 12s 7ms/step - loss: 0.2161 - accuracy: 0.9260 - val_loss: 0.5117 - val_accuracy: 0.8700 - lr: 0.0016\n",
            "Epoch 18/25\n",
            "1719/1719 [==============================] - 12s 7ms/step - loss: 0.2037 - accuracy: 0.9301 - val_loss: 0.4706 - val_accuracy: 0.8906 - lr: 0.0014\n",
            "Epoch 19/25\n",
            "1719/1719 [==============================] - 13s 7ms/step - loss: 0.1867 - accuracy: 0.9356 - val_loss: 0.4801 - val_accuracy: 0.8940 - lr: 0.0013\n",
            "Epoch 20/25\n",
            "1719/1719 [==============================] - 13s 8ms/step - loss: 0.1763 - accuracy: 0.9393 - val_loss: 0.4617 - val_accuracy: 0.8900 - lr: 0.0011\n",
            "Epoch 21/25\n",
            "1719/1719 [==============================] - 13s 7ms/step - loss: 0.1614 - accuracy: 0.9455 - val_loss: 0.5043 - val_accuracy: 0.8934 - lr: 0.0010\n",
            "Epoch 22/25\n",
            "1719/1719 [==============================] - 13s 7ms/step - loss: 0.1546 - accuracy: 0.9480 - val_loss: 0.5041 - val_accuracy: 0.8920 - lr: 8.9125e-04\n",
            "Epoch 23/25\n",
            "1719/1719 [==============================] - 12s 7ms/step - loss: 0.1452 - accuracy: 0.9517 - val_loss: 0.5404 - val_accuracy: 0.8878 - lr: 7.9433e-04\n",
            "Epoch 24/25\n",
            "1719/1719 [==============================] - 13s 7ms/step - loss: 0.1377 - accuracy: 0.9537 - val_loss: 0.5594 - val_accuracy: 0.8904 - lr: 7.0795e-04\n",
            "Epoch 25/25\n",
            "1719/1719 [==============================] - 13s 7ms/step - loss: 0.1298 - accuracy: 0.9560 - val_loss: 0.5671 - val_accuracy: 0.8924 - lr: 6.3096e-04\n"
          ]
        }
      ]
    },
    {
      "cell_type": "code",
      "metadata": {
        "id": "thP4HgE1K4eP",
        "outputId": "530b4489-2ba8-459f-fae9-444bdc61b98d",
        "colab": {
          "base_uri": "https://localhost:8080/",
          "height": 482
        }
      },
      "source": [
        "plt.plot(history.epoch, history.history[\"lr\"], \"o-\")\n",
        "plt.axis([0, n_epochs - 1, 0, 0.011])\n",
        "plt.xlabel(\"Epoch\")\n",
        "plt.ylabel(\"Learning Rate\")\n",
        "plt.title(\"Exponential Scheduling\", fontsize=14)\n",
        "plt.grid(True)\n",
        "plt.show()"
      ],
      "execution_count": 62,
      "outputs": [
        {
          "output_type": "display_data",
          "data": {
            "text/plain": [
              "<Figure size 640x480 with 1 Axes>"
            ],
            "image/png": "[encoded data removed]"
          },
          "metadata": {}
        }
      ]
    },
    {
      "cell_type": "markdown",
      "metadata": {
        "id": "ZnoQw65IK4eQ"
      },
      "source": [
        "The schedule function can take the current learning rate as a second argument:"
      ]
    },
    {
      "cell_type": "code",
      "metadata": {
        "id": "-5MnLjLKK4eR"
      },
      "source": [
        "def exponential_decay_fn(epoch, lr):\n",
        "    return lr * 0.1**(1 / 20)"
      ],
      "execution_count": 63,
      "outputs": []
    },
    {
      "cell_type": "markdown",
      "metadata": {
        "id": "eHu0BdCTK4eS"
      },
      "source": [
        "If you want to update the learning rate at each iteration rather than at each epoch, you must write your own callback class:"
      ]
    },
    {
      "cell_type": "code",
      "metadata": {
        "id": "T2f1tccQK4eT",
        "outputId": "1910bc14-417a-41a5-d632-6391c57b2082",
        "colab": {
          "base_uri": "https://localhost:8080/"
        }
      },
      "source": [
        "K = keras.backend\n",
        "\n",
        "class ExponentialDecay(keras.callbacks.Callback):\n",
        "    def __init__(self, s=40000):\n",
        "        super().__init__()\n",
        "        self.s = s\n",
        "\n",
        "    def on_batch_begin(self, batch, logs=None):\n",
        "        # Note: the `batch` argument is reset at each epoch\n",
        "        lr = K.get_value(self.model.optimizer.lr)\n",
        "        K.set_value(self.model.optimizer.lr, lr * 0.1**(1 / s))\n",
        "\n",
        "    def on_epoch_end(self, epoch, logs=None):\n",
        "        logs = logs or {}\n",
        "        logs['lr'] = K.get_value(self.model.optimizer.lr)\n",
        "\n",
        "model = keras.models.Sequential([\n",
        "    keras.layers.Flatten(input_shape=[28, 28]),\n",
        "    keras.layers.Dense(300, activation=\"selu\", kernel_initializer=\"lecun_normal\"),\n",
        "    keras.layers.Dense(100, activation=\"selu\", kernel_initializer=\"lecun_normal\"),\n",
        "    keras.layers.Dense(10, activation=\"softmax\")\n",
        "])\n",
        "lr0 = 0.01\n",
        "optimizer = keras.optimizers.Nadam(lr=lr0)\n",
        "model.compile(loss=\"sparse_categorical_crossentropy\", optimizer=optimizer, metrics=[\"accuracy\"])\n",
        "n_epochs = 25\n",
        "\n",
        "s = 20 * len(X_train) // 32 # number of steps in 20 epochs (batch size = 32)\n",
        "exp_decay = ExponentialDecay(s)\n",
        "history = model.fit(X_train_scaled, y_train, epochs=n_epochs,\n",
        "                    validation_data=(X_valid_scaled, y_valid),\n",
        "                    callbacks=[exp_decay])"
      ],
      "execution_count": 64,
      "outputs": [
        {
          "output_type": "stream",
          "name": "stderr",
          "text": [
            "WARNING:absl:`lr` is deprecated in Keras optimizer, please use `learning_rate` or use the legacy optimizer, e.g.,tf.keras.optimizers.legacy.Nadam.\n"
          ]
        },
        {
          "output_type": "stream",
          "name": "stdout",
          "text": [
            "Epoch 1/25\n",
            "1719/1719 [==============================] - 16s 9ms/step - loss: 0.4738 - accuracy: 0.8355 - val_loss: 0.3771 - val_accuracy: 0.8652 - lr: 8.9124e-04\n",
            "Epoch 2/25\n",
            "1719/1719 [==============================] - 14s 8ms/step - loss: 0.3399 - accuracy: 0.8764 - val_loss: 0.3593 - val_accuracy: 0.8728 - lr: 7.9430e-04\n",
            "Epoch 3/25\n",
            "1719/1719 [==============================] - 14s 8ms/step - loss: 0.2925 - accuracy: 0.8910 - val_loss: 0.3323 - val_accuracy: 0.8828 - lr: 7.0791e-04\n",
            "Epoch 4/25\n",
            "1719/1719 [==============================] - 14s 8ms/step - loss: 0.2588 - accuracy: 0.9038 - val_loss: 0.3255 - val_accuracy: 0.8840 - lr: 6.3092e-04\n",
            "Epoch 5/25\n",
            "1719/1719 [==============================] - 14s 8ms/step - loss: 0.2294 - accuracy: 0.9143 - val_loss: 0.3159 - val_accuracy: 0.8906 - lr: 5.6229e-04\n",
            "Epoch 6/25\n",
            "1719/1719 [==============================] - 14s 8ms/step - loss: 0.2032 - accuracy: 0.9240 - val_loss: 0.3215 - val_accuracy: 0.8910 - lr: 5.0114e-04\n",
            "Epoch 7/25\n",
            "1719/1719 [==============================] - 14s 8ms/step - loss: 0.1803 - accuracy: 0.9337 - val_loss: 0.3184 - val_accuracy: 0.8920 - lr: 4.4663e-04\n",
            "Epoch 8/25\n",
            "1719/1719 [==============================] - 14s 8ms/step - loss: 0.1582 - accuracy: 0.9410 - val_loss: 0.3173 - val_accuracy: 0.8920 - lr: 3.9805e-04\n",
            "Epoch 9/25\n",
            "1719/1719 [==============================] - 14s 8ms/step - loss: 0.1376 - accuracy: 0.9487 - val_loss: 0.3199 - val_accuracy: 0.8986 - lr: 3.5476e-04\n",
            "Epoch 10/25\n",
            "1719/1719 [==============================] - 15s 9ms/step - loss: 0.1205 - accuracy: 0.9551 - val_loss: 0.3404 - val_accuracy: 0.8960 - lr: 3.1618e-04\n",
            "Epoch 11/25\n",
            "1719/1719 [==============================] - 14s 8ms/step - loss: 0.1067 - accuracy: 0.9604 - val_loss: 0.3377 - val_accuracy: 0.8984 - lr: 2.8179e-04\n",
            "Epoch 12/25\n",
            "1719/1719 [==============================] - 14s 8ms/step - loss: 0.0914 - accuracy: 0.9673 - val_loss: 0.3644 - val_accuracy: 0.8970 - lr: 2.5114e-04\n",
            "Epoch 13/25\n",
            "1719/1719 [==============================] - 14s 8ms/step - loss: 0.0806 - accuracy: 0.9718 - val_loss: 0.3633 - val_accuracy: 0.8986 - lr: 2.2382e-04\n",
            "Epoch 14/25\n",
            "1719/1719 [==============================] - 14s 8ms/step - loss: 0.0695 - accuracy: 0.9763 - val_loss: 0.3738 - val_accuracy: 0.9020 - lr: 1.9948e-04\n",
            "Epoch 15/25\n",
            "1719/1719 [==============================] - 14s 8ms/step - loss: 0.0614 - accuracy: 0.9793 - val_loss: 0.3928 - val_accuracy: 0.9004 - lr: 1.7778e-04\n",
            "Epoch 16/25\n",
            "1719/1719 [==============================] - 14s 8ms/step - loss: 0.0527 - accuracy: 0.9835 - val_loss: 0.4034 - val_accuracy: 0.8980 - lr: 1.5845e-04\n",
            "Epoch 17/25\n",
            "1719/1719 [==============================] - 14s 8ms/step - loss: 0.0464 - accuracy: 0.9855 - val_loss: 0.4110 - val_accuracy: 0.8986 - lr: 1.4121e-04\n",
            "Epoch 18/25\n",
            "1719/1719 [==============================] - 14s 8ms/step - loss: 0.0404 - accuracy: 0.9885 - val_loss: 0.4189 - val_accuracy: 0.9000 - lr: 1.2586e-04\n",
            "Epoch 19/25\n",
            "1719/1719 [==============================] - 14s 8ms/step - loss: 0.0354 - accuracy: 0.9899 - val_loss: 0.4263 - val_accuracy: 0.8996 - lr: 1.1217e-04\n",
            "Epoch 20/25\n",
            "1719/1719 [==============================] - 14s 8ms/step - loss: 0.0308 - accuracy: 0.9916 - val_loss: 0.4304 - val_accuracy: 0.9006 - lr: 9.9967e-05\n",
            "Epoch 21/25\n",
            "1719/1719 [==============================] - 14s 8ms/step - loss: 0.0272 - accuracy: 0.9930 - val_loss: 0.4496 - val_accuracy: 0.9008 - lr: 8.9094e-05\n",
            "Epoch 22/25\n",
            "1719/1719 [==============================] - 14s 8ms/step - loss: 0.0244 - accuracy: 0.9946 - val_loss: 0.4607 - val_accuracy: 0.9008 - lr: 7.9404e-05\n",
            "Epoch 23/25\n",
            "1719/1719 [==============================] - 14s 8ms/step - loss: 0.0216 - accuracy: 0.9955 - val_loss: 0.4689 - val_accuracy: 0.9008 - lr: 7.0768e-05\n",
            "Epoch 24/25\n",
            "1719/1719 [==============================] - 14s 8ms/step - loss: 0.0193 - accuracy: 0.9962 - val_loss: 0.4736 - val_accuracy: 0.8998 - lr: 6.3071e-05\n",
            "Epoch 25/25\n",
            "1719/1719 [==============================] - 14s 8ms/step - loss: 0.0175 - accuracy: 0.9967 - val_loss: 0.4839 - val_accuracy: 0.8978 - lr: 5.6211e-05\n"
          ]
        }
      ]
    },
    {
      "cell_type": "code",
      "metadata": {
        "id": "Tn5r7GpKK4eW"
      },
      "source": [
        "n_steps = n_epochs * len(X_train) // 32\n",
        "steps = np.arange(n_steps)\n",
        "lrs = lr0 * 0.1**(steps / s)"
      ],
      "execution_count": 65,
      "outputs": []
    },
    {
      "cell_type": "code",
      "metadata": {
        "scrolled": true,
        "id": "hLuqssG3K4eY",
        "outputId": "dd11b635-4d19-4619-fd73-3df3f682f19c",
        "colab": {
          "base_uri": "https://localhost:8080/",
          "height": 482
        }
      },
      "source": [
        "plt.plot(steps, lrs, \"-\", linewidth=2)\n",
        "plt.axis([0, n_steps - 1, 0, lr0 * 1.1])\n",
        "plt.xlabel(\"Batch\")\n",
        "plt.ylabel(\"Learning Rate\")\n",
        "plt.title(\"Exponential Scheduling (per batch)\", fontsize=14)\n",
        "plt.grid(True)\n",
        "plt.show()"
      ],
      "execution_count": 66,
      "outputs": [
        {
          "output_type": "display_data",
          "data": {
            "text/plain": [
              "<Figure size 640x480 with 1 Axes>"
            ],
            "image/png": "[encoded data removed]"
          },
          "metadata": {}
        }
      ]
    },
    {
      "cell_type": "markdown",
      "metadata": {
        "id": "v9FaUSuZK4eZ"
      },
      "source": [
        "### Piecewise Constant Scheduling"
      ]
    },
    {
      "cell_type": "code",
      "metadata": {
        "id": "VtZfoCBXK4eZ"
      },
      "source": [
        "def piecewise_constant_fn(epoch):\n",
        "    if epoch < 5:\n",
        "        return 0.01\n",
        "    elif epoch < 15:\n",
        "        return 0.005\n",
        "    else:\n",
        "        return 0.001"
      ],
      "execution_count": 67,
      "outputs": []
    },
    {
      "cell_type": "code",
      "metadata": {
        "id": "9RVUQNIJK4ea"
      },
      "source": [
        "def piecewise_constant(boundaries, values):\n",
        "    boundaries = np.array([0] + boundaries)\n",
        "    values = np.array(values)\n",
        "    def piecewise_constant_fn(epoch):\n",
        "        return values[np.argmax(boundaries > epoch) - 1]\n",
        "    return piecewise_constant_fn\n",
        "\n",
        "piecewise_constant_fn = piecewise_constant([5, 15], [0.01, 0.005, 0.001])"
      ],
      "execution_count": 68,
      "outputs": []
    },
    {
      "cell_type": "code",
      "metadata": {
        "id": "i5dLpW4fK4ea",
        "outputId": "ca30c48f-12b9-439b-fe7c-940167c51511",
        "colab": {
          "base_uri": "https://localhost:8080/"
        }
      },
      "source": [
        "lr_scheduler = keras.callbacks.LearningRateScheduler(piecewise_constant_fn)\n",
        "\n",
        "model = keras.models.Sequential([\n",
        "    keras.layers.Flatten(input_shape=[28, 28]),\n",
        "    keras.layers.Dense(300, activation=\"selu\", kernel_initializer=\"lecun_normal\"),\n",
        "    keras.layers.Dense(100, activation=\"selu\", kernel_initializer=\"lecun_normal\"),\n",
        "    keras.layers.Dense(10, activation=\"softmax\")\n",
        "])\n",
        "model.compile(loss=\"sparse_categorical_crossentropy\", optimizer=\"nadam\", metrics=[\"accuracy\"])\n",
        "n_epochs = 25\n",
        "history = model.fit(X_train_scaled, y_train, epochs=n_epochs,\n",
        "                    validation_data=(X_valid_scaled, y_valid),\n",
        "                    callbacks=[lr_scheduler])"
      ],
      "execution_count": 69,
      "outputs": [
        {
          "output_type": "stream",
          "name": "stdout",
          "text": [
            "Epoch 1/25\n",
            "1719/1719 [==============================] - 15s 8ms/step - loss: 0.7445 - accuracy: 0.7787 - val_loss: 0.7143 - val_accuracy: 0.7990 - lr: 0.0100\n",
            "Epoch 2/25\n",
            "1719/1719 [==============================] - 13s 8ms/step - loss: 0.6799 - accuracy: 0.7945 - val_loss: 0.6371 - val_accuracy: 0.8102 - lr: 0.0100\n",
            "Epoch 3/25\n",
            "1719/1719 [==============================] - 14s 8ms/step - loss: 0.8263 - accuracy: 0.7634 - val_loss: 1.0825 - val_accuracy: 0.6784 - lr: 0.0100\n",
            "Epoch 4/25\n",
            "1719/1719 [==============================] - 13s 8ms/step - loss: 0.7859 - accuracy: 0.7711 - val_loss: 0.8583 - val_accuracy: 0.7622 - lr: 0.0100\n",
            "Epoch 5/25\n",
            "1719/1719 [==============================] - 14s 8ms/step - loss: 0.8323 - accuracy: 0.7594 - val_loss: 0.7299 - val_accuracy: 0.7816 - lr: 0.0100\n",
            "Epoch 6/25\n",
            "1719/1719 [==============================] - 13s 7ms/step - loss: 0.5301 - accuracy: 0.8229 - val_loss: 0.5777 - val_accuracy: 0.8280 - lr: 0.0050\n",
            "Epoch 7/25\n",
            "1719/1719 [==============================] - 13s 8ms/step - loss: 0.5160 - accuracy: 0.8379 - val_loss: 0.5725 - val_accuracy: 0.8376 - lr: 0.0050\n",
            "Epoch 8/25\n",
            "1719/1719 [==============================] - 13s 8ms/step - loss: 0.4926 - accuracy: 0.8514 - val_loss: 0.7412 - val_accuracy: 0.8208 - lr: 0.0050\n",
            "Epoch 9/25\n",
            "1719/1719 [==============================] - 13s 8ms/step - loss: 0.4542 - accuracy: 0.8605 - val_loss: 0.6146 - val_accuracy: 0.8492 - lr: 0.0050\n",
            "Epoch 10/25\n",
            "1719/1719 [==============================] - 14s 8ms/step - loss: 0.4417 - accuracy: 0.8658 - val_loss: 0.6430 - val_accuracy: 0.8452 - lr: 0.0050\n",
            "Epoch 11/25\n",
            "1719/1719 [==============================] - 14s 8ms/step - loss: 0.4413 - accuracy: 0.8678 - val_loss: 0.6623 - val_accuracy: 0.7824 - lr: 0.0050\n",
            "Epoch 12/25\n",
            "1719/1719 [==============================] - 14s 8ms/step - loss: 0.4146 - accuracy: 0.8749 - val_loss: 0.6019 - val_accuracy: 0.8572 - lr: 0.0050\n",
            "Epoch 13/25\n",
            "1719/1719 [==============================] - 13s 7ms/step - loss: 0.4146 - accuracy: 0.8769 - val_loss: 0.6227 - val_accuracy: 0.8510 - lr: 0.0050\n",
            "Epoch 14/25\n",
            "1719/1719 [==============================] - 13s 8ms/step - loss: 0.4070 - accuracy: 0.8791 - val_loss: 0.4916 - val_accuracy: 0.8622 - lr: 0.0050\n",
            "Epoch 15/25\n",
            "1719/1719 [==============================] - 13s 8ms/step - loss: 0.4215 - accuracy: 0.8815 - val_loss: 0.6334 - val_accuracy: 0.8660 - lr: 0.0050\n",
            "Epoch 16/25\n",
            "1719/1719 [==============================] - 13s 8ms/step - loss: 0.2705 - accuracy: 0.9116 - val_loss: 0.4776 - val_accuracy: 0.8840 - lr: 0.0010\n",
            "Epoch 17/25\n",
            "1719/1719 [==============================] - 13s 7ms/step - loss: 0.2474 - accuracy: 0.9185 - val_loss: 0.4928 - val_accuracy: 0.8834 - lr: 0.0010\n",
            "Epoch 18/25\n",
            "1719/1719 [==============================] - 13s 8ms/step - loss: 0.2399 - accuracy: 0.9212 - val_loss: 0.4785 - val_accuracy: 0.8840 - lr: 0.0010\n",
            "Epoch 19/25\n",
            "1719/1719 [==============================] - 13s 8ms/step - loss: 0.2282 - accuracy: 0.9255 - val_loss: 0.5076 - val_accuracy: 0.8854 - lr: 0.0010\n",
            "Epoch 20/25\n",
            "1719/1719 [==============================] - 13s 8ms/step - loss: 0.2203 - accuracy: 0.9280 - val_loss: 0.5078 - val_accuracy: 0.8854 - lr: 0.0010\n",
            "Epoch 21/25\n",
            "1719/1719 [==============================] - 13s 8ms/step - loss: 0.2139 - accuracy: 0.9303 - val_loss: 0.5298 - val_accuracy: 0.8838 - lr: 0.0010\n",
            "Epoch 22/25\n",
            "1719/1719 [==============================] - 13s 8ms/step - loss: 0.2072 - accuracy: 0.9322 - val_loss: 0.5345 - val_accuracy: 0.8872 - lr: 0.0010\n",
            "Epoch 23/25\n",
            "1719/1719 [==============================] - 13s 8ms/step - loss: 0.2013 - accuracy: 0.9351 - val_loss: 0.5255 - val_accuracy: 0.8818 - lr: 0.0010\n",
            "Epoch 24/25\n",
            "1719/1719 [==============================] - 13s 8ms/step - loss: 0.1941 - accuracy: 0.9371 - val_loss: 0.5420 - val_accuracy: 0.8820 - lr: 0.0010\n",
            "Epoch 25/25\n",
            "1719/1719 [==============================] - 13s 8ms/step - loss: 0.1878 - accuracy: 0.9397 - val_loss: 0.5699 - val_accuracy: 0.8836 - lr: 0.0010\n"
          ]
        }
      ]
    },
    {
      "cell_type": "code",
      "metadata": {
        "id": "vbpCm9noK4eb",
        "outputId": "b811418c-3bbb-4750-975d-ffb79f6a2edd",
        "colab": {
          "base_uri": "https://localhost:8080/",
          "height": 482
        }
      },
      "source": [
        "plt.plot(history.epoch, [piecewise_constant_fn(epoch) for epoch in history.epoch], \"o-\")\n",
        "plt.axis([0, n_epochs - 1, 0, 0.011])\n",
        "plt.xlabel(\"Epoch\")\n",
        "plt.ylabel(\"Learning Rate\")\n",
        "plt.title(\"Piecewise Constant Scheduling\", fontsize=14)\n",
        "plt.grid(True)\n",
        "plt.show()"
      ],
      "execution_count": 70,
      "outputs": [
        {
          "output_type": "display_data",
          "data": {
            "text/plain": [
              "<Figure size 640x480 with 1 Axes>"
            ],
            "image/png": "[encoded data removed]"
          },
          "metadata": {}
        }
      ]
    },
    {
      "cell_type": "markdown",
      "metadata": {
        "id": "EzTNEmKKK4ed"
      },
      "source": [
        "### Performance Scheduling"
      ]
    },
    {
      "cell_type": "code",
      "metadata": {
        "id": "SBAVLcYaK4ee"
      },
      "source": [
        "tf.random.set_seed(42)\n",
        "np.random.seed(42)"
      ],
      "execution_count": 71,
      "outputs": []
    },
    {
      "cell_type": "code",
      "metadata": {
        "id": "jfDr-HM4K4ef",
        "outputId": "b6a9901b-2c48-4b6c-ef5b-f33328259783",
        "colab": {
          "base_uri": "https://localhost:8080/"
        }
      },
      "source": [
        "lr_scheduler = keras.callbacks.ReduceLROnPlateau(factor=0.5, patience=5)\n",
        "\n",
        "model = keras.models.Sequential([\n",
        "    keras.layers.Flatten(input_shape=[28, 28]),\n",
        "    keras.layers.Dense(300, activation=\"selu\", kernel_initializer=\"lecun_normal\"),\n",
        "    keras.layers.Dense(100, activation=\"selu\", kernel_initializer=\"lecun_normal\"),\n",
        "    keras.layers.Dense(10, activation=\"softmax\")\n",
        "])\n",
        "optimizer = keras.optimizers.SGD(lr=0.02, momentum=0.9)\n",
        "model.compile(loss=\"sparse_categorical_crossentropy\", optimizer=optimizer, metrics=[\"accuracy\"])\n",
        "n_epochs = 25\n",
        "history = model.fit(X_train_scaled, y_train, epochs=n_epochs,\n",
        "                    validation_data=(X_valid_scaled, y_valid),\n",
        "                    callbacks=[lr_scheduler])"
      ],
      "execution_count": 72,
      "outputs": [
        {
          "output_type": "stream",
          "name": "stderr",
          "text": [
            "WARNING:absl:`lr` is deprecated in Keras optimizer, please use `learning_rate` or use the legacy optimizer, e.g.,tf.keras.optimizers.legacy.SGD.\n"
          ]
        },
        {
          "output_type": "stream",
          "name": "stdout",
          "text": [
            "Epoch 1/25\n",
            "1719/1719 [==============================] - 11s 6ms/step - loss: 0.4796 - accuracy: 0.8307 - val_loss: 0.3873 - val_accuracy: 0.8620 - lr: 0.0100\n",
            "Epoch 2/25\n",
            "1719/1719 [==============================] - 10s 6ms/step - loss: 0.3653 - accuracy: 0.8676 - val_loss: 0.3849 - val_accuracy: 0.8666 - lr: 0.0100\n",
            "Epoch 3/25\n",
            "1719/1719 [==============================] - 9s 5ms/step - loss: 0.3290 - accuracy: 0.8791 - val_loss: 0.3386 - val_accuracy: 0.8760 - lr: 0.0100\n",
            "Epoch 4/25\n",
            "1719/1719 [==============================] - 10s 6ms/step - loss: 0.3026 - accuracy: 0.8897 - val_loss: 0.3492 - val_accuracy: 0.8790 - lr: 0.0100\n",
            "Epoch 5/25\n",
            "1719/1719 [==============================] - 10s 6ms/step - loss: 0.2818 - accuracy: 0.8969 - val_loss: 0.3302 - val_accuracy: 0.8826 - lr: 0.0100\n",
            "Epoch 6/25\n",
            "1719/1719 [==============================] - 10s 6ms/step - loss: 0.2671 - accuracy: 0.9018 - val_loss: 0.3683 - val_accuracy: 0.8790 - lr: 0.0100\n",
            "Epoch 7/25\n",
            "1719/1719 [==============================] - 9s 5ms/step - loss: 0.2541 - accuracy: 0.9067 - val_loss: 0.3885 - val_accuracy: 0.8770 - lr: 0.0100\n",
            "Epoch 8/25\n",
            "1719/1719 [==============================] - 10s 6ms/step - loss: 0.2413 - accuracy: 0.9117 - val_loss: 0.3818 - val_accuracy: 0.8776 - lr: 0.0100\n",
            "Epoch 9/25\n",
            "1719/1719 [==============================] - 10s 6ms/step - loss: 0.2259 - accuracy: 0.9169 - val_loss: 0.3717 - val_accuracy: 0.8874 - lr: 0.0100\n",
            "Epoch 10/25\n",
            "1719/1719 [==============================] - 10s 6ms/step - loss: 0.2240 - accuracy: 0.9177 - val_loss: 0.4224 - val_accuracy: 0.8778 - lr: 0.0100\n",
            "Epoch 11/25\n",
            "1719/1719 [==============================] - 10s 6ms/step - loss: 0.1481 - accuracy: 0.9437 - val_loss: 0.3406 - val_accuracy: 0.8966 - lr: 0.0050\n",
            "Epoch 12/25\n",
            "1719/1719 [==============================] - 9s 5ms/step - loss: 0.1264 - accuracy: 0.9519 - val_loss: 0.3635 - val_accuracy: 0.8914 - lr: 0.0050\n",
            "Epoch 13/25\n",
            "1719/1719 [==============================] - 10s 6ms/step - loss: 0.1184 - accuracy: 0.9558 - val_loss: 0.3711 - val_accuracy: 0.8936 - lr: 0.0050\n",
            "Epoch 14/25\n",
            "1719/1719 [==============================] - 10s 6ms/step - loss: 0.1095 - accuracy: 0.9593 - val_loss: 0.3900 - val_accuracy: 0.8934 - lr: 0.0050\n",
            "Epoch 15/25\n",
            "1719/1719 [==============================] - 9s 5ms/step - loss: 0.1025 - accuracy: 0.9616 - val_loss: 0.4056 - val_accuracy: 0.8924 - lr: 0.0050\n",
            "Epoch 16/25\n",
            "1719/1719 [==============================] - 9s 5ms/step - loss: 0.0717 - accuracy: 0.9749 - val_loss: 0.3931 - val_accuracy: 0.8974 - lr: 0.0025\n",
            "Epoch 17/25\n",
            "1719/1719 [==============================] - 10s 6ms/step - loss: 0.0633 - accuracy: 0.9785 - val_loss: 0.4033 - val_accuracy: 0.8968 - lr: 0.0025\n",
            "Epoch 18/25\n",
            "1719/1719 [==============================] - 10s 6ms/step - loss: 0.0583 - accuracy: 0.9802 - val_loss: 0.4169 - val_accuracy: 0.8972 - lr: 0.0025\n",
            "Epoch 19/25\n",
            "1719/1719 [==============================] - 10s 6ms/step - loss: 0.0547 - accuracy: 0.9813 - val_loss: 0.4364 - val_accuracy: 0.8956 - lr: 0.0025\n",
            "Epoch 20/25\n",
            "1719/1719 [==============================] - 9s 5ms/step - loss: 0.0492 - accuracy: 0.9839 - val_loss: 0.4456 - val_accuracy: 0.8972 - lr: 0.0025\n",
            "Epoch 21/25\n",
            "1719/1719 [==============================] - 10s 6ms/step - loss: 0.0387 - accuracy: 0.9885 - val_loss: 0.4474 - val_accuracy: 0.8968 - lr: 0.0012\n",
            "Epoch 22/25\n",
            "1719/1719 [==============================] - 10s 6ms/step - loss: 0.0356 - accuracy: 0.9900 - val_loss: 0.4558 - val_accuracy: 0.8972 - lr: 0.0012\n",
            "Epoch 23/25\n",
            "1719/1719 [==============================] - 10s 6ms/step - loss: 0.0339 - accuracy: 0.9903 - val_loss: 0.4603 - val_accuracy: 0.8974 - lr: 0.0012\n",
            "Epoch 24/25\n",
            "1719/1719 [==============================] - 10s 6ms/step - loss: 0.0318 - accuracy: 0.9912 - val_loss: 0.4675 - val_accuracy: 0.8976 - lr: 0.0012\n",
            "Epoch 25/25\n",
            "1719/1719 [==============================] - 9s 5ms/step - loss: 0.0301 - accuracy: 0.9921 - val_loss: 0.4725 - val_accuracy: 0.8960 - lr: 0.0012\n"
          ]
        }
      ]
    },
    {
      "cell_type": "code",
      "metadata": {
        "id": "0eNNFkGFK4eg",
        "outputId": "6251936c-2a36-4632-ec41-f2904e553864",
        "colab": {
          "base_uri": "https://localhost:8080/",
          "height": 482
        }
      },
      "source": [
        "plt.plot(history.epoch, history.history[\"lr\"], \"bo-\")\n",
        "plt.xlabel(\"Epoch\")\n",
        "plt.ylabel(\"Learning Rate\", color='b')\n",
        "plt.tick_params('y', colors='b')\n",
        "plt.gca().set_xlim(0, n_epochs - 1)\n",
        "plt.grid(True)\n",
        "\n",
        "ax2 = plt.gca().twinx()\n",
        "ax2.plot(history.epoch, history.history[\"val_loss\"], \"r^-\")\n",
        "ax2.set_ylabel('Validation Loss', color='r')\n",
        "ax2.tick_params('y', colors='r')\n",
        "\n",
        "plt.title(\"Reduce LR on Plateau\", fontsize=14)\n",
        "plt.show()"
      ],
      "execution_count": 73,
      "outputs": [
        {
          "output_type": "display_data",
          "data": {
            "text/plain": [
              "<Figure size 640x480 with 2 Axes>"
            ],
            "image/png": "[encoded data removed]"
          },
          "metadata": {}
        }
      ]
    },
    {
      "cell_type": "markdown",
      "metadata": {
        "id": "mIZVs5zdK4eh"
      },
      "source": [
        "### tf.keras schedulers"
      ]
    },
    {
      "cell_type": "code",
      "metadata": {
        "id": "TgofNDlqK4eh",
        "outputId": "46793c43-1967-4041-956f-beaf769a3980",
        "colab": {
          "base_uri": "https://localhost:8080/"
        }
      },
      "source": [
        "model = keras.models.Sequential([\n",
        "    keras.layers.Flatten(input_shape=[28, 28]),\n",
        "    keras.layers.Dense(300, activation=\"selu\", kernel_initializer=\"lecun_normal\"),\n",
        "    keras.layers.Dense(100, activation=\"selu\", kernel_initializer=\"lecun_normal\"),\n",
        "    keras.layers.Dense(10, activation=\"softmax\")\n",
        "])\n",
        "s = 20 * len(X_train) // 32 # number of steps in 20 epochs (batch size = 32)\n",
        "learning_rate = keras.optimizers.schedules.ExponentialDecay(0.01, s, 0.1)\n",
        "optimizer = keras.optimizers.SGD(learning_rate)\n",
        "model.compile(loss=\"sparse_categorical_crossentropy\", optimizer=optimizer, metrics=[\"accuracy\"])\n",
        "n_epochs = 25\n",
        "history = model.fit(X_train_scaled, y_train, epochs=n_epochs,\n",
        "                    validation_data=(X_valid_scaled, y_valid))"
      ],
      "execution_count": 74,
      "outputs": [
        {
          "output_type": "stream",
          "name": "stdout",
          "text": [
            "Epoch 1/25\n",
            "1719/1719 [==============================] - 18s 10ms/step - loss: 0.4873 - accuracy: 0.8293 - val_loss: 0.4018 - val_accuracy: 0.8602\n",
            "Epoch 2/25\n",
            "1719/1719 [==============================] - 8s 5ms/step - loss: 0.3791 - accuracy: 0.8655 - val_loss: 0.3693 - val_accuracy: 0.8736\n",
            "Epoch 3/25\n",
            "1719/1719 [==============================] - 9s 5ms/step - loss: 0.3454 - accuracy: 0.8769 - val_loss: 0.3705 - val_accuracy: 0.8710\n",
            "Epoch 4/25\n",
            "1719/1719 [==============================] - 9s 5ms/step - loss: 0.3236 - accuracy: 0.8847 - val_loss: 0.3480 - val_accuracy: 0.8756\n",
            "Epoch 5/25\n",
            "1719/1719 [==============================] - 8s 4ms/step - loss: 0.3077 - accuracy: 0.8907 - val_loss: 0.3426 - val_accuracy: 0.8776\n",
            "Epoch 6/25\n",
            "1719/1719 [==============================] - 9s 5ms/step - loss: 0.2936 - accuracy: 0.8959 - val_loss: 0.3402 - val_accuracy: 0.8806\n",
            "Epoch 7/25\n",
            "1719/1719 [==============================] - 9s 5ms/step - loss: 0.2831 - accuracy: 0.8996 - val_loss: 0.3347 - val_accuracy: 0.8822\n",
            "Epoch 8/25\n",
            "1719/1719 [==============================] - 8s 5ms/step - loss: 0.2741 - accuracy: 0.9031 - val_loss: 0.3362 - val_accuracy: 0.8802\n",
            "Epoch 9/25\n",
            "1719/1719 [==============================] - 9s 5ms/step - loss: 0.2659 - accuracy: 0.9055 - val_loss: 0.3275 - val_accuracy: 0.8810\n",
            "Epoch 10/25\n",
            "1719/1719 [==============================] - 9s 5ms/step - loss: 0.2588 - accuracy: 0.9078 - val_loss: 0.3262 - val_accuracy: 0.8836\n",
            "Epoch 11/25\n",
            "1719/1719 [==============================] - 8s 5ms/step - loss: 0.2532 - accuracy: 0.9100 - val_loss: 0.3259 - val_accuracy: 0.8840\n",
            "Epoch 12/25\n",
            "1719/1719 [==============================] - 9s 5ms/step - loss: 0.2478 - accuracy: 0.9126 - val_loss: 0.3283 - val_accuracy: 0.8818\n",
            "Epoch 13/25\n",
            "1719/1719 [==============================] - 9s 5ms/step - loss: 0.2429 - accuracy: 0.9157 - val_loss: 0.3209 - val_accuracy: 0.8864\n",
            "Epoch 14/25\n",
            "1719/1719 [==============================] - 9s 5ms/step - loss: 0.2395 - accuracy: 0.9166 - val_loss: 0.3236 - val_accuracy: 0.8864\n",
            "Epoch 15/25\n",
            "1719/1719 [==============================] - 8s 5ms/step - loss: 0.2356 - accuracy: 0.9180 - val_loss: 0.3207 - val_accuracy: 0.8844\n",
            "Epoch 16/25\n",
            "1719/1719 [==============================] - 9s 5ms/step - loss: 0.2324 - accuracy: 0.9193 - val_loss: 0.3196 - val_accuracy: 0.8872\n",
            "Epoch 17/25\n",
            "1719/1719 [==============================] - 9s 6ms/step - loss: 0.2297 - accuracy: 0.9204 - val_loss: 0.3209 - val_accuracy: 0.8864\n",
            "Epoch 18/25\n",
            "1719/1719 [==============================] - 8s 5ms/step - loss: 0.2269 - accuracy: 0.9210 - val_loss: 0.3177 - val_accuracy: 0.8868\n",
            "Epoch 19/25\n",
            "1719/1719 [==============================] - 9s 5ms/step - loss: 0.2248 - accuracy: 0.9226 - val_loss: 0.3202 - val_accuracy: 0.8876\n",
            "Epoch 20/25\n",
            "1719/1719 [==============================] - 9s 5ms/step - loss: 0.2228 - accuracy: 0.9239 - val_loss: 0.3176 - val_accuracy: 0.8884\n",
            "Epoch 21/25\n",
            "1719/1719 [==============================] - 8s 5ms/step - loss: 0.2207 - accuracy: 0.9241 - val_loss: 0.3187 - val_accuracy: 0.8872\n",
            "Epoch 22/25\n",
            "1719/1719 [==============================] - 9s 5ms/step - loss: 0.2194 - accuracy: 0.9247 - val_loss: 0.3176 - val_accuracy: 0.8880\n",
            "Epoch 23/25\n",
            "1719/1719 [==============================] - 9s 5ms/step - loss: 0.2178 - accuracy: 0.9248 - val_loss: 0.3177 - val_accuracy: 0.8878\n",
            "Epoch 24/25\n",
            "1719/1719 [==============================] - 8s 5ms/step - loss: 0.2166 - accuracy: 0.9263 - val_loss: 0.3171 - val_accuracy: 0.8882\n",
            "Epoch 25/25\n",
            "1719/1719 [==============================] - 9s 5ms/step - loss: 0.2156 - accuracy: 0.9261 - val_loss: 0.3182 - val_accuracy: 0.8892\n"
          ]
        }
      ]
    },
    {
      "cell_type": "markdown",
      "metadata": {
        "id": "ZMSMamipK4ei"
      },
      "source": [
        "For piecewise constant scheduling, try this:"
      ]
    },
    {
      "cell_type": "code",
      "metadata": {
        "id": "wmKnNIqtK4ei"
      },
      "source": [
        "learning_rate = keras.optimizers.schedules.PiecewiseConstantDecay(\n",
        "    boundaries=[5. * n_steps_per_epoch, 15. * n_steps_per_epoch],\n",
        "    values=[0.01, 0.005, 0.001])"
      ],
      "execution_count": 75,
      "outputs": []
    },
    {
      "cell_type": "markdown",
      "metadata": {
        "id": "QruroHvJK4ej"
      },
      "source": [
        "### 1Cycle scheduling"
      ]
    },
    {
      "cell_type": "code",
      "metadata": {
        "id": "gDms_pNnK4ej"
      },
      "source": [
        "K = keras.backend\n",
        "\n",
        "class ExponentialLearningRate(keras.callbacks.Callback):\n",
        "    def __init__(self, factor):\n",
        "        self.factor = factor\n",
        "        self.rates = []\n",
        "        self.losses = []\n",
        "    def on_batch_end(self, batch, logs):\n",
        "        self.rates.append(K.get_value(self.model.optimizer.lr))\n",
        "        self.losses.append(logs[\"loss\"])\n",
        "        K.set_value(self.model.optimizer.lr, self.model.optimizer.lr * self.factor)\n",
        "\n",
        "def find_learning_rate(model, X, y, epochs=1, batch_size=32, min_rate=10**-5, max_rate=10):\n",
        "    init_weights = model.get_weights()\n",
        "    iterations = len(X) // batch_size * epochs\n",
        "    factor = np.exp(np.log(max_rate / min_rate) / iterations)\n",
        "    init_lr = K.get_value(model.optimizer.lr)\n",
        "    K.set_value(model.optimizer.lr, min_rate)\n",
        "    exp_lr = ExponentialLearningRate(factor)\n",
        "    history = model.fit(X, y, epochs=epochs, batch_size=batch_size,\n",
        "                        callbacks=[exp_lr])\n",
        "    K.set_value(model.optimizer.lr, init_lr)\n",
        "    model.set_weights(init_weights)\n",
        "    return exp_lr.rates, exp_lr.losses\n",
        "\n",
        "def plot_lr_vs_loss(rates, losses):\n",
        "    plt.plot(rates, losses)\n",
        "    plt.gca().set_xscale('log')\n",
        "    plt.hlines(min(losses), min(rates), max(rates))\n",
        "    plt.axis([min(rates), max(rates), min(losses), (losses[0] + min(losses)) / 2])\n",
        "    plt.xlabel(\"Learning rate\")\n",
        "    plt.ylabel(\"Loss\")"
      ],
      "execution_count": 76,
      "outputs": []
    },
    {
      "cell_type": "code",
      "metadata": {
        "id": "f5_QCTtQK4ek",
        "colab": {
          "base_uri": "https://localhost:8080/"
        },
        "outputId": "56618fb7-4a96-4656-c6ae-beb66f4dd361"
      },
      "source": [
        "tf.random.set_seed(42)\n",
        "np.random.seed(42)\n",
        "\n",
        "model = keras.models.Sequential([\n",
        "    keras.layers.Flatten(input_shape=[28, 28]),\n",
        "    keras.layers.Dense(300, activation=\"selu\", kernel_initializer=\"lecun_normal\"),\n",
        "    keras.layers.Dense(100, activation=\"selu\", kernel_initializer=\"lecun_normal\"),\n",
        "    keras.layers.Dense(10, activation=\"softmax\")\n",
        "])\n",
        "model.compile(loss=\"sparse_categorical_crossentropy\",\n",
        "              optimizer=keras.optimizers.SGD(lr=1e-3),\n",
        "              metrics=[\"accuracy\"])"
      ],
      "execution_count": 77,
      "outputs": [
        {
          "output_type": "stream",
          "name": "stderr",
          "text": [
            "WARNING:absl:`lr` is deprecated in Keras optimizer, please use `learning_rate` or use the legacy optimizer, e.g.,tf.keras.optimizers.legacy.SGD.\n"
          ]
        }
      ]
    },
    {
      "cell_type": "code",
      "metadata": {
        "id": "D5-JCWUgK4el",
        "outputId": "2fa806d1-99e6-4397-b406-21653f894589",
        "colab": {
          "base_uri": "https://localhost:8080/",
          "height": 477
        }
      },
      "source": [
        "batch_size = 128\n",
        "rates, losses = find_learning_rate(model, X_train_scaled, y_train, epochs=1, batch_size=batch_size)\n",
        "plot_lr_vs_loss(rates, losses)"
      ],
      "execution_count": 78,
      "outputs": [
        {
          "output_type": "stream",
          "name": "stdout",
          "text": [
            "430/430 [==============================] - 4s 9ms/step - loss: nan - accuracy: 0.3695\n"
          ]
        },
        {
          "output_type": "display_data",
          "data": {
            "text/plain": [
              "<Figure size 640x480 with 1 Axes>"
            ],
            "image/png": "[encoded data removed]"
          },
          "metadata": {}
        }
      ]
    },
    {
      "cell_type": "code",
      "metadata": {
        "id": "7DvsY2-kK4em"
      },
      "source": [
        "class OneCycleScheduler(keras.callbacks.Callback):\n",
        "    def __init__(self, iterations, max_rate, start_rate=None,\n",
        "                 last_iterations=None, last_rate=None):\n",
        "        self.iterations = iterations\n",
        "        self.max_rate = max_rate\n",
        "        self.start_rate = start_rate or max_rate / 10\n",
        "        self.last_iterations = last_iterations or iterations // 10 + 1\n",
        "        self.half_iteration = (iterations - self.last_iterations) // 2\n",
        "        self.last_rate = last_rate or self.start_rate / 1000\n",
        "        self.iteration = 0\n",
        "    def _interpolate(self, iter1, iter2, rate1, rate2):\n",
        "        return ((rate2 - rate1) * (iter2 - self.iteration)\n",
        "                / (iter2 - iter1) + rate1)\n",
        "    def on_batch_begin(self, batch, logs):\n",
        "        if self.iteration < self.half_iteration:\n",
        "            rate = self._interpolate(0, self.half_iteration, self.start_rate, self.max_rate)\n",
        "        elif self.iteration < 2 * self.half_iteration:\n",
        "            rate = self._interpolate(self.half_iteration, 2 * self.half_iteration,\n",
        "                                     self.max_rate, self.start_rate)\n",
        "        else:\n",
        "            rate = self._interpolate(2 * self.half_iteration, self.iterations,\n",
        "                                     self.start_rate, self.last_rate)\n",
        "            rate = max(rate, self.last_rate)\n",
        "        self.iteration += 1\n",
        "        K.set_value(self.model.optimizer.lr, rate)"
      ],
      "execution_count": 79,
      "outputs": []
    },
    {
      "cell_type": "code",
      "metadata": {
        "id": "a6cIG3fSK4eo",
        "outputId": "3c350e8e-c005-47ea-ef70-ab9e3b155030",
        "colab": {
          "base_uri": "https://localhost:8080/"
        }
      },
      "source": [
        "n_epochs = 25\n",
        "onecycle = OneCycleScheduler(len(X_train) // batch_size * n_epochs, max_rate=0.05)\n",
        "history = model.fit(X_train_scaled, y_train, epochs=n_epochs, batch_size=batch_size,\n",
        "                    validation_data=(X_valid_scaled, y_valid),\n",
        "                    callbacks=[onecycle])"
      ],
      "execution_count": 80,
      "outputs": [
        {
          "output_type": "stream",
          "name": "stdout",
          "text": [
            "Epoch 1/25\n",
            "430/430 [==============================] - 4s 10ms/step - loss: 0.5003 - accuracy: 0.8243 - val_loss: 0.4009 - val_accuracy: 0.8626\n",
            "Epoch 2/25\n",
            "430/430 [==============================] - 4s 9ms/step - loss: 0.3772 - accuracy: 0.8655 - val_loss: 0.3714 - val_accuracy: 0.8730\n",
            "Epoch 3/25\n",
            "430/430 [==============================] - 4s 8ms/step - loss: 0.3413 - accuracy: 0.8780 - val_loss: 0.3689 - val_accuracy: 0.8730\n",
            "Epoch 4/25\n",
            "430/430 [==============================] - 4s 8ms/step - loss: 0.3160 - accuracy: 0.8873 - val_loss: 0.3499 - val_accuracy: 0.8776\n",
            "Epoch 5/25\n",
            "430/430 [==============================] - 5s 11ms/step - loss: 0.2991 - accuracy: 0.8937 - val_loss: 0.3412 - val_accuracy: 0.8804\n",
            "Epoch 6/25\n",
            "430/430 [==============================] - 4s 8ms/step - loss: 0.2835 - accuracy: 0.8990 - val_loss: 0.3440 - val_accuracy: 0.8822\n",
            "Epoch 7/25\n",
            "430/430 [==============================] - 4s 8ms/step - loss: 0.2722 - accuracy: 0.9036 - val_loss: 0.3368 - val_accuracy: 0.8846\n",
            "Epoch 8/25\n",
            "430/430 [==============================] - 5s 10ms/step - loss: 0.2613 - accuracy: 0.9070 - val_loss: 0.3369 - val_accuracy: 0.8844\n",
            "Epoch 9/25\n",
            "430/430 [==============================] - 4s 8ms/step - loss: 0.2525 - accuracy: 0.9109 - val_loss: 0.3284 - val_accuracy: 0.8882\n",
            "Epoch 10/25\n",
            "430/430 [==============================] - 3s 8ms/step - loss: 0.2447 - accuracy: 0.9134 - val_loss: 0.3257 - val_accuracy: 0.8878\n",
            "Epoch 11/25\n",
            "430/430 [==============================] - 4s 9ms/step - loss: 0.2388 - accuracy: 0.9161 - val_loss: 0.3262 - val_accuracy: 0.8896\n",
            "Epoch 12/25\n",
            "430/430 [==============================] - 4s 9ms/step - loss: 0.2350 - accuracy: 0.9178 - val_loss: 0.3321 - val_accuracy: 0.8856\n",
            "Epoch 13/25\n",
            "430/430 [==============================] - 4s 8ms/step - loss: 0.2351 - accuracy: 0.9178 - val_loss: 0.3275 - val_accuracy: 0.8900\n",
            "Epoch 14/25\n",
            "430/430 [==============================] - 3s 8ms/step - loss: 0.2353 - accuracy: 0.9173 - val_loss: 0.3369 - val_accuracy: 0.8898\n",
            "Epoch 15/25\n",
            "430/430 [==============================] - 5s 11ms/step - loss: 0.2344 - accuracy: 0.9164 - val_loss: 0.3314 - val_accuracy: 0.8868\n",
            "Epoch 16/25\n",
            "430/430 [==============================] - 3s 8ms/step - loss: 0.2326 - accuracy: 0.9179 - val_loss: 0.3303 - val_accuracy: 0.8866\n",
            "Epoch 17/25\n",
            "430/430 [==============================] - 3s 8ms/step - loss: 0.2304 - accuracy: 0.9178 - val_loss: 0.3523 - val_accuracy: 0.8806\n",
            "Epoch 18/25\n",
            "430/430 [==============================] - 4s 10ms/step - loss: 0.2291 - accuracy: 0.9179 - val_loss: 0.3390 - val_accuracy: 0.8850\n",
            "Epoch 19/25\n",
            "430/430 [==============================] - 4s 8ms/step - loss: 0.2259 - accuracy: 0.9191 - val_loss: 0.3479 - val_accuracy: 0.8824\n",
            "Epoch 20/25\n",
            "430/430 [==============================] - 4s 8ms/step - loss: 0.2230 - accuracy: 0.9193 - val_loss: 0.3544 - val_accuracy: 0.8816\n",
            "Epoch 21/25\n",
            "430/430 [==============================] - 4s 10ms/step - loss: 0.2188 - accuracy: 0.9217 - val_loss: 0.3388 - val_accuracy: 0.8876\n",
            "Epoch 22/25\n",
            "430/430 [==============================] - 4s 9ms/step - loss: 0.2164 - accuracy: 0.9216 - val_loss: 0.3402 - val_accuracy: 0.8868\n",
            "Epoch 23/25\n",
            "430/430 [==============================] - 3s 8ms/step - loss: 0.2039 - accuracy: 0.9258 - val_loss: 0.3236 - val_accuracy: 0.8928\n",
            "Epoch 24/25\n",
            "430/430 [==============================] - 4s 8ms/step - loss: 0.1740 - accuracy: 0.9407 - val_loss: 0.3200 - val_accuracy: 0.8936\n",
            "Epoch 25/25\n",
            "430/430 [==============================] - 4s 10ms/step - loss: 0.1715 - accuracy: 0.9419 - val_loss: 0.3194 - val_accuracy: 0.8940\n"
          ]
        }
      ]
    },
    {
      "cell_type": "markdown",
      "metadata": {
        "id": "un17ncQIK4dD"
      },
      "source": [
        "# Reusing Pretrained Layers"
      ]
    },
    {
      "cell_type": "markdown",
      "metadata": {
        "id": "6ynCCIl1K4dE"
      },
      "source": [
        "### Reusing a Keras model"
      ]
    },
    {
      "cell_type": "markdown",
      "metadata": {
        "id": "NCna9PjrK4dE"
      },
      "source": [
        "Let's split the fashion MNIST training set in two:\n",
        "* `X_train_A`: all images of all items except for sandals and shirts (classes 5 and 6).\n",
        "* `X_train_B`: a much smaller training set of just the first 200 images of sandals or shirts.\n",
        "\n",
        "The validation set and the test set are also split this way, but without restricting the number of images.\n",
        "\n",
        "We will train a model on set A (classification task with 8 classes), and try to reuse it to tackle set B (binary classification). We hope to transfer a little bit of knowledge from task A to task B, since classes in set A (sneakers, ankle boots, coats, t-shirts, etc.) are somewhat similar to classes in set B (sandals and shirts). However, since we are using `Dense` layers, only patterns that occur at the same location can be reused (in contrast, convolutional layers will transfer much better, since learned patterns can be detected anywhere on the image, as we will see in the CNN chapter)."
      ]
    },
    {
      "cell_type": "code",
      "metadata": {
        "id": "tCSD3orvK4dF"
      },
      "source": [
        "def split_dataset(X, y):\n",
        "    y_5_or_6 = (y == 5) | (y == 6) # sandals or shirts\n",
        "    y_A = y[~y_5_or_6]\n",
        "    y_A[y_A > 6] -= 2 # class indices 7, 8, 9 should be moved to 5, 6, 7\n",
        "    y_B = (y[y_5_or_6] == 6).astype(np.float32) # binary classification task: is it a shirt (class 6)?\n",
        "    return ((X[~y_5_or_6], y_A),\n",
        "            (X[y_5_or_6], y_B))\n",
        "\n",
        "(X_train_A, y_train_A), (X_train_B, y_train_B) = split_dataset(X_train, y_train)\n",
        "(X_valid_A, y_valid_A), (X_valid_B, y_valid_B) = split_dataset(X_valid, y_valid)\n",
        "(X_test_A, y_test_A), (X_test_B, y_test_B) = split_dataset(X_test, y_test)\n",
        "X_train_B = X_train_B[:200]\n",
        "y_train_B = y_train_B[:200]"
      ],
      "execution_count": 81,
      "outputs": []
    },
    {
      "cell_type": "code",
      "metadata": {
        "id": "Aza-HmYCK4dG",
        "outputId": "580fe9d1-d3fe-4319-872d-06c2ceac2c30",
        "colab": {
          "base_uri": "https://localhost:8080/"
        }
      },
      "source": [
        "X_train_A.shape"
      ],
      "execution_count": 82,
      "outputs": [
        {
          "output_type": "execute_result",
          "data": {
            "text/plain": [
              "(43986, 28, 28)"
            ]
          },
          "metadata": {},
          "execution_count": 82
        }
      ]
    },
    {
      "cell_type": "code",
      "metadata": {
        "id": "NiCMF0rYK4dJ",
        "outputId": "5f261980-0c3e-4484-88aa-67e15c10f702",
        "colab": {
          "base_uri": "https://localhost:8080/"
        }
      },
      "source": [
        "X_train_B.shape"
      ],
      "execution_count": 83,
      "outputs": [
        {
          "output_type": "execute_result",
          "data": {
            "text/plain": [
              "(200, 28, 28)"
            ]
          },
          "metadata": {},
          "execution_count": 83
        }
      ]
    },
    {
      "cell_type": "code",
      "metadata": {
        "id": "is8drFYWK4dM",
        "outputId": "0decae19-c861-4693-c9a4-e26a787de208",
        "colab": {
          "base_uri": "https://localhost:8080/"
        }
      },
      "source": [
        "y_train_A[:30]"
      ],
      "execution_count": 84,
      "outputs": [
        {
          "output_type": "execute_result",
          "data": {
            "text/plain": [
              "array([4, 0, 5, 7, 7, 7, 4, 4, 3, 4, 0, 1, 6, 3, 4, 3, 2, 6, 5, 3, 4, 5,\n",
              "       1, 3, 4, 2, 0, 6, 7, 1], dtype=uint8)"
            ]
          },
          "metadata": {},
          "execution_count": 84
        }
      ]
    },
    {
      "cell_type": "code",
      "metadata": {
        "id": "NFLJlAHpK4dP",
        "outputId": "978e08a1-bf1b-455a-bc4b-ba8ad5688814",
        "colab": {
          "base_uri": "https://localhost:8080/"
        }
      },
      "source": [
        "y_train_B[:30]"
      ],
      "execution_count": 85,
      "outputs": [
        {
          "output_type": "execute_result",
          "data": {
            "text/plain": [
              "array([1., 1., 0., 0., 0., 0., 1., 1., 1., 0., 0., 1., 1., 0., 0., 0., 0.,\n",
              "       0., 0., 1., 1., 0., 0., 1., 1., 0., 1., 1., 1., 1.], dtype=float32)"
            ]
          },
          "metadata": {},
          "execution_count": 85
        }
      ]
    },
    {
      "cell_type": "code",
      "metadata": {
        "id": "-Gbe1vbAK4dR"
      },
      "source": [
        "tf.random.set_seed(42)\n",
        "np.random.seed(42)"
      ],
      "execution_count": 86,
      "outputs": []
    },
    {
      "cell_type": "code",
      "metadata": {
        "id": "uJMQ2G0PK4dS"
      },
      "source": [
        "model_A = keras.models.Sequential()\n",
        "model_A.add(keras.layers.Flatten(input_shape=[28, 28]))\n",
        "for n_hidden in (300, 100, 50, 50, 50):\n",
        "    model_A.add(keras.layers.Dense(n_hidden, activation=\"selu\"))\n",
        "model_A.add(keras.layers.Dense(8, activation=\"softmax\"))"
      ],
      "execution_count": 87,
      "outputs": []
    },
    {
      "cell_type": "code",
      "metadata": {
        "id": "zVsB77lQK4dT",
        "colab": {
          "base_uri": "https://localhost:8080/"
        },
        "outputId": "0d07ba4e-9001-4f77-9772-f6857ea44f3f"
      },
      "source": [
        "model_A.compile(loss=\"sparse_categorical_crossentropy\",\n",
        "                optimizer=keras.optimizers.SGD(lr=1e-3),\n",
        "                metrics=[\"accuracy\"])"
      ],
      "execution_count": 88,
      "outputs": [
        {
          "output_type": "stream",
          "name": "stderr",
          "text": [
            "WARNING:absl:`lr` is deprecated in Keras optimizer, please use `learning_rate` or use the legacy optimizer, e.g.,tf.keras.optimizers.legacy.SGD.\n"
          ]
        }
      ]
    },
    {
      "cell_type": "code",
      "metadata": {
        "id": "ZmoYb3fnK4dV",
        "outputId": "ec692ba4-e7c1-4da9-d4b0-2a2d1bb13bf0",
        "colab": {
          "base_uri": "https://localhost:8080/"
        }
      },
      "source": [
        "history = model_A.fit(X_train_A, y_train_A, epochs=20,\n",
        "                    validation_data=(X_valid_A, y_valid_A))"
      ],
      "execution_count": 89,
      "outputs": [
        {
          "output_type": "stream",
          "name": "stdout",
          "text": [
            "Epoch 1/20\n",
            "1375/1375 [==============================] - 9s 6ms/step - loss: 0.3642 - accuracy: 0.8724 - val_loss: 0.2899 - val_accuracy: 0.9008\n",
            "Epoch 2/20\n",
            "1375/1375 [==============================] - 8s 6ms/step - loss: 0.2667 - accuracy: 0.9072 - val_loss: 0.2629 - val_accuracy: 0.9033\n",
            "Epoch 3/20\n",
            "1375/1375 [==============================] - 9s 6ms/step - loss: 0.2453 - accuracy: 0.9134 - val_loss: 0.2398 - val_accuracy: 0.9131\n",
            "Epoch 4/20\n",
            "1375/1375 [==============================] - 8s 6ms/step - loss: 0.2298 - accuracy: 0.9189 - val_loss: 0.2400 - val_accuracy: 0.9136\n",
            "Epoch 5/20\n",
            "1375/1375 [==============================] - 8s 6ms/step - loss: 0.2174 - accuracy: 0.9232 - val_loss: 0.2549 - val_accuracy: 0.9096\n",
            "Epoch 6/20\n",
            "1375/1375 [==============================] - 8s 6ms/step - loss: 0.2088 - accuracy: 0.9257 - val_loss: 0.2277 - val_accuracy: 0.9178\n",
            "Epoch 7/20\n",
            "1375/1375 [==============================] - 7s 5ms/step - loss: 0.2002 - accuracy: 0.9289 - val_loss: 0.2439 - val_accuracy: 0.9113\n",
            "Epoch 8/20\n",
            "1375/1375 [==============================] - 9s 6ms/step - loss: 0.1932 - accuracy: 0.9325 - val_loss: 0.2453 - val_accuracy: 0.9148\n",
            "Epoch 9/20\n",
            "1375/1375 [==============================] - 8s 6ms/step - loss: 0.1870 - accuracy: 0.9328 - val_loss: 0.2143 - val_accuracy: 0.9218\n",
            "Epoch 10/20\n",
            "1375/1375 [==============================] - 8s 6ms/step - loss: 0.1816 - accuracy: 0.9347 - val_loss: 0.2338 - val_accuracy: 0.9155\n",
            "Epoch 11/20\n",
            "1375/1375 [==============================] - 8s 6ms/step - loss: 0.1758 - accuracy: 0.9364 - val_loss: 0.1997 - val_accuracy: 0.9275\n",
            "Epoch 12/20\n",
            "1375/1375 [==============================] - 7s 5ms/step - loss: 0.1709 - accuracy: 0.9388 - val_loss: 0.2309 - val_accuracy: 0.9185\n",
            "Epoch 13/20\n",
            "1375/1375 [==============================] - 8s 6ms/step - loss: 0.1675 - accuracy: 0.9387 - val_loss: 0.1973 - val_accuracy: 0.9243\n",
            "Epoch 14/20\n",
            "1375/1375 [==============================] - 9s 6ms/step - loss: 0.1626 - accuracy: 0.9409 - val_loss: 0.1964 - val_accuracy: 0.9297\n",
            "Epoch 15/20\n",
            "1375/1375 [==============================] - 8s 6ms/step - loss: 0.1586 - accuracy: 0.9421 - val_loss: 0.2184 - val_accuracy: 0.9193\n",
            "Epoch 16/20\n",
            "1375/1375 [==============================] - 8s 6ms/step - loss: 0.1537 - accuracy: 0.9433 - val_loss: 0.2022 - val_accuracy: 0.9290\n",
            "Epoch 17/20\n",
            "1375/1375 [==============================] - 9s 6ms/step - loss: 0.1517 - accuracy: 0.9445 - val_loss: 0.2285 - val_accuracy: 0.9223\n",
            "Epoch 18/20\n",
            "1375/1375 [==============================] - 8s 5ms/step - loss: 0.1478 - accuracy: 0.9453 - val_loss: 0.2022 - val_accuracy: 0.9270\n",
            "Epoch 19/20\n",
            "1375/1375 [==============================] - 8s 6ms/step - loss: 0.1435 - accuracy: 0.9482 - val_loss: 0.1957 - val_accuracy: 0.9317\n",
            "Epoch 20/20\n",
            "1375/1375 [==============================] - 8s 6ms/step - loss: 0.1404 - accuracy: 0.9487 - val_loss: 0.1992 - val_accuracy: 0.9263\n"
          ]
        }
      ]
    },
    {
      "cell_type": "code",
      "metadata": {
        "id": "r3MVharjK4dX",
        "colab": {
          "base_uri": "https://localhost:8080/"
        },
        "outputId": "54bdca02-c966-4704-fb62-0ec6b8c80c63"
      },
      "source": [
        "model_A.save(\"my_model_A.h5\")"
      ],
      "execution_count": 90,
      "outputs": [
        {
          "output_type": "stream",
          "name": "stderr",
          "text": [
            "/usr/local/lib/python3.10/dist-packages/keras/src/engine/training.py:3103: UserWarning: You are saving your model as an HDF5 file via `model.save()`. This file format is considered legacy. We recommend using instead the native Keras format, e.g. `model.save('my_model.keras')`.\n",
            "  saving_api.save_model(\n"
          ]
        }
      ]
    },
    {
      "cell_type": "code",
      "metadata": {
        "id": "MPuw6dJdK4dZ"
      },
      "source": [
        "model_B = keras.models.Sequential()\n",
        "model_B.add(keras.layers.Flatten(input_shape=[28, 28]))\n",
        "for n_hidden in (300, 100, 50, 50, 50):\n",
        "    model_B.add(keras.layers.Dense(n_hidden, activation=\"selu\"))\n",
        "model_B.add(keras.layers.Dense(1, activation=\"sigmoid\"))"
      ],
      "execution_count": 91,
      "outputs": []
    },
    {
      "cell_type": "code",
      "metadata": {
        "id": "5vwaocBQK4db",
        "colab": {
          "base_uri": "https://localhost:8080/"
        },
        "outputId": "5e5625e4-6a03-48b4-a7ff-ed7796635624"
      },
      "source": [
        "model_B.compile(loss=\"binary_crossentropy\",\n",
        "                optimizer=keras.optimizers.SGD(lr=1e-3),\n",
        "                metrics=[\"accuracy\"])"
      ],
      "execution_count": 92,
      "outputs": [
        {
          "output_type": "stream",
          "name": "stderr",
          "text": [
            "WARNING:absl:`lr` is deprecated in Keras optimizer, please use `learning_rate` or use the legacy optimizer, e.g.,tf.keras.optimizers.legacy.SGD.\n"
          ]
        }
      ]
    },
    {
      "cell_type": "code",
      "metadata": {
        "id": "nkgUc2JmK4dc",
        "outputId": "a00f5837-fc2f-4e2b-fc90-49293d81d355",
        "colab": {
          "base_uri": "https://localhost:8080/"
        }
      },
      "source": [
        "history = model_B.fit(X_train_B, y_train_B, epochs=20,\n",
        "                      validation_data=(X_valid_B, y_valid_B))"
      ],
      "execution_count": 93,
      "outputs": [
        {
          "output_type": "stream",
          "name": "stdout",
          "text": [
            "Epoch 1/20\n",
            "7/7 [==============================] - 2s 84ms/step - loss: 0.4312 - accuracy: 0.8250 - val_loss: 0.2125 - val_accuracy: 0.9574\n",
            "Epoch 2/20\n",
            "7/7 [==============================] - 0s 36ms/step - loss: 0.1317 - accuracy: 0.9950 - val_loss: 0.1270 - val_accuracy: 0.9807\n",
            "Epoch 3/20\n",
            "7/7 [==============================] - 0s 38ms/step - loss: 0.0767 - accuracy: 1.0000 - val_loss: 0.0965 - val_accuracy: 0.9807\n",
            "Epoch 4/20\n",
            "7/7 [==============================] - 0s 38ms/step - loss: 0.0556 - accuracy: 1.0000 - val_loss: 0.0805 - val_accuracy: 0.9838\n",
            "Epoch 5/20\n",
            "7/7 [==============================] - 0s 38ms/step - loss: 0.0414 - accuracy: 1.0000 - val_loss: 0.0703 - val_accuracy: 0.9848\n",
            "Epoch 6/20\n",
            "7/7 [==============================] - 0s 38ms/step - loss: 0.0333 - accuracy: 1.0000 - val_loss: 0.0641 - val_accuracy: 0.9848\n",
            "Epoch 7/20\n",
            "7/7 [==============================] - 0s 41ms/step - loss: 0.0278 - accuracy: 1.0000 - val_loss: 0.0625 - val_accuracy: 0.9838\n",
            "Epoch 8/20\n",
            "7/7 [==============================] - 0s 33ms/step - loss: 0.0239 - accuracy: 1.0000 - val_loss: 0.0549 - val_accuracy: 0.9878\n",
            "Epoch 9/20\n",
            "7/7 [==============================] - 0s 23ms/step - loss: 0.0198 - accuracy: 1.0000 - val_loss: 0.0509 - val_accuracy: 0.9899\n",
            "Epoch 10/20\n",
            "7/7 [==============================] - 0s 34ms/step - loss: 0.0174 - accuracy: 1.0000 - val_loss: 0.0487 - val_accuracy: 0.9888\n",
            "Epoch 11/20\n",
            "7/7 [==============================] - 0s 32ms/step - loss: 0.0153 - accuracy: 1.0000 - val_loss: 0.0475 - val_accuracy: 0.9888\n",
            "Epoch 12/20\n",
            "7/7 [==============================] - 0s 22ms/step - loss: 0.0136 - accuracy: 1.0000 - val_loss: 0.0457 - val_accuracy: 0.9878\n",
            "Epoch 13/20\n",
            "7/7 [==============================] - 0s 23ms/step - loss: 0.0122 - accuracy: 1.0000 - val_loss: 0.0444 - val_accuracy: 0.9888\n",
            "Epoch 14/20\n",
            "7/7 [==============================] - 0s 24ms/step - loss: 0.0111 - accuracy: 1.0000 - val_loss: 0.0435 - val_accuracy: 0.9888\n",
            "Epoch 15/20\n",
            "7/7 [==============================] - 0s 33ms/step - loss: 0.0101 - accuracy: 1.0000 - val_loss: 0.0423 - val_accuracy: 0.9888\n",
            "Epoch 16/20\n",
            "7/7 [==============================] - 0s 32ms/step - loss: 0.0094 - accuracy: 1.0000 - val_loss: 0.0415 - val_accuracy: 0.9899\n",
            "Epoch 17/20\n",
            "7/7 [==============================] - 0s 33ms/step - loss: 0.0087 - accuracy: 1.0000 - val_loss: 0.0408 - val_accuracy: 0.9899\n",
            "Epoch 18/20\n",
            "7/7 [==============================] - 0s 32ms/step - loss: 0.0081 - accuracy: 1.0000 - val_loss: 0.0403 - val_accuracy: 0.9899\n",
            "Epoch 19/20\n",
            "7/7 [==============================] - 0s 33ms/step - loss: 0.0076 - accuracy: 1.0000 - val_loss: 0.0397 - val_accuracy: 0.9899\n",
            "Epoch 20/20\n",
            "7/7 [==============================] - 0s 33ms/step - loss: 0.0071 - accuracy: 1.0000 - val_loss: 0.0396 - val_accuracy: 0.9899\n"
          ]
        }
      ]
    },
    {
      "cell_type": "code",
      "metadata": {
        "id": "MwHSnAPYK4dd",
        "outputId": "6875c890-6d06-446f-dc11-c03e13b92808",
        "colab": {
          "base_uri": "https://localhost:8080/"
        }
      },
      "source": [
        "model.summary()"
      ],
      "execution_count": 94,
      "outputs": [
        {
          "output_type": "stream",
          "name": "stdout",
          "text": [
            "Model: \"sequential_12\"\n",
            "_________________________________________________________________\n",
            " Layer (type)                Output Shape              Param #   \n",
            "=================================================================\n",
            " flatten_12 (Flatten)        (None, 784)               0         \n",
            "                                                                 \n",
            " dense_236 (Dense)           (None, 300)               235500    \n",
            "                                                                 \n",
            " dense_237 (Dense)           (None, 100)               30100     \n",
            "                                                                 \n",
            " dense_238 (Dense)           (None, 10)                1010      \n",
            "                                                                 \n",
            "=================================================================\n",
            "Total params: 266610 (1.02 MB)\n",
            "Trainable params: 266610 (1.02 MB)\n",
            "Non-trainable params: 0 (0.00 Byte)\n",
            "_________________________________________________________________\n"
          ]
        }
      ]
    },
    {
      "cell_type": "code",
      "metadata": {
        "id": "kYrki4UlK4df"
      },
      "source": [
        "model_A = keras.models.load_model(\"my_model_A.h5\")\n",
        "model_B_on_A = keras.models.Sequential(model_A.layers[:-1])\n",
        "model_B_on_A.add(keras.layers.Dense(1, activation=\"sigmoid\"))"
      ],
      "execution_count": 95,
      "outputs": []
    },
    {
      "cell_type": "code",
      "metadata": {
        "id": "_iOWQJLmK4dg"
      },
      "source": [
        "model_A_clone = keras.models.clone_model(model_A)\n",
        "model_A_clone.set_weights(model_A.get_weights())"
      ],
      "execution_count": 96,
      "outputs": []
    },
    {
      "cell_type": "code",
      "metadata": {
        "id": "7qSAHRW3K4dh",
        "colab": {
          "base_uri": "https://localhost:8080/"
        },
        "outputId": "a021644a-46b3-44fc-ab06-af33f446ee98"
      },
      "source": [
        "for layer in model_B_on_A.layers[:-1]:\n",
        "    layer.trainable = False\n",
        "\n",
        "model_B_on_A.compile(loss=\"binary_crossentropy\",\n",
        "                     optimizer=keras.optimizers.SGD(lr=1e-3),\n",
        "                     metrics=[\"accuracy\"])"
      ],
      "execution_count": 97,
      "outputs": [
        {
          "output_type": "stream",
          "name": "stderr",
          "text": [
            "WARNING:absl:`lr` is deprecated in Keras optimizer, please use `learning_rate` or use the legacy optimizer, e.g.,tf.keras.optimizers.legacy.SGD.\n"
          ]
        }
      ]
    },
    {
      "cell_type": "code",
      "metadata": {
        "id": "0dtdyBIcK4di",
        "outputId": "35c9476f-1b85-41e8-8889-7e74bdefe089",
        "colab": {
          "base_uri": "https://localhost:8080/"
        }
      },
      "source": [
        "history = model_B_on_A.fit(X_train_B, y_train_B, epochs=4,\n",
        "                           validation_data=(X_valid_B, y_valid_B))\n",
        "\n",
        "for layer in model_B_on_A.layers[:-1]:\n",
        "    layer.trainable = True\n",
        "\n",
        "model_B_on_A.compile(loss=\"binary_crossentropy\",\n",
        "                     optimizer=keras.optimizers.SGD(lr=1e-3),\n",
        "                     metrics=[\"accuracy\"])\n",
        "history = model_B_on_A.fit(X_train_B, y_train_B, epochs=16,\n",
        "                           validation_data=(X_valid_B, y_valid_B))"
      ],
      "execution_count": 98,
      "outputs": [
        {
          "output_type": "stream",
          "name": "stdout",
          "text": [
            "Epoch 1/4\n",
            "7/7 [==============================] - 1s 50ms/step - loss: 0.5078 - accuracy: 0.7350 - val_loss: 0.3342 - val_accuracy: 0.8570\n",
            "Epoch 2/4\n",
            "7/7 [==============================] - 0s 31ms/step - loss: 0.2734 - accuracy: 0.9050 - val_loss: 0.2198 - val_accuracy: 0.9260\n",
            "Epoch 3/4\n",
            "7/7 [==============================] - 0s 23ms/step - loss: 0.1807 - accuracy: 0.9600 - val_loss: 0.1645 - val_accuracy: 0.9503\n",
            "Epoch 4/4\n",
            "7/7 [==============================] - 0s 33ms/step - loss: 0.1347 - accuracy: 0.9700 - val_loss: 0.1377 - val_accuracy: 0.9615\n"
          ]
        },
        {
          "output_type": "stream",
          "name": "stderr",
          "text": [
            "WARNING:absl:`lr` is deprecated in Keras optimizer, please use `learning_rate` or use the legacy optimizer, e.g.,tf.keras.optimizers.legacy.SGD.\n"
          ]
        },
        {
          "output_type": "stream",
          "name": "stdout",
          "text": [
            "Epoch 1/16\n",
            "7/7 [==============================] - 1s 66ms/step - loss: 0.0860 - accuracy: 0.9750 - val_loss: 0.0666 - val_accuracy: 0.9848\n",
            "Epoch 2/16\n",
            "7/7 [==============================] - 0s 33ms/step - loss: 0.0432 - accuracy: 0.9950 - val_loss: 0.0485 - val_accuracy: 0.9909\n",
            "Epoch 3/16\n",
            "7/7 [==============================] - 0s 35ms/step - loss: 0.0297 - accuracy: 1.0000 - val_loss: 0.0384 - val_accuracy: 0.9929\n",
            "Epoch 4/16\n",
            "7/7 [==============================] - 0s 33ms/step - loss: 0.0219 - accuracy: 1.0000 - val_loss: 0.0332 - val_accuracy: 0.9929\n",
            "Epoch 5/16\n",
            "7/7 [==============================] - 0s 32ms/step - loss: 0.0173 - accuracy: 1.0000 - val_loss: 0.0298 - val_accuracy: 0.9939\n",
            "Epoch 6/16\n",
            "7/7 [==============================] - 0s 22ms/step - loss: 0.0144 - accuracy: 1.0000 - val_loss: 0.0274 - val_accuracy: 0.9959\n",
            "Epoch 7/16\n",
            "7/7 [==============================] - 0s 33ms/step - loss: 0.0123 - accuracy: 1.0000 - val_loss: 0.0258 - val_accuracy: 0.9959\n",
            "Epoch 8/16\n",
            "7/7 [==============================] - 0s 24ms/step - loss: 0.0105 - accuracy: 1.0000 - val_loss: 0.0242 - val_accuracy: 0.9959\n",
            "Epoch 9/16\n",
            "7/7 [==============================] - 0s 32ms/step - loss: 0.0092 - accuracy: 1.0000 - val_loss: 0.0228 - val_accuracy: 0.9959\n",
            "Epoch 10/16\n",
            "7/7 [==============================] - 0s 32ms/step - loss: 0.0082 - accuracy: 1.0000 - val_loss: 0.0218 - val_accuracy: 0.9959\n",
            "Epoch 11/16\n",
            "7/7 [==============================] - 0s 21ms/step - loss: 0.0074 - accuracy: 1.0000 - val_loss: 0.0210 - val_accuracy: 0.9959\n",
            "Epoch 12/16\n",
            "7/7 [==============================] - 0s 22ms/step - loss: 0.0068 - accuracy: 1.0000 - val_loss: 0.0203 - val_accuracy: 0.9959\n",
            "Epoch 13/16\n",
            "7/7 [==============================] - 0s 23ms/step - loss: 0.0062 - accuracy: 1.0000 - val_loss: 0.0197 - val_accuracy: 0.9959\n",
            "Epoch 14/16\n",
            "7/7 [==============================] - 0s 33ms/step - loss: 0.0057 - accuracy: 1.0000 - val_loss: 0.0193 - val_accuracy: 0.9959\n",
            "Epoch 15/16\n",
            "7/7 [==============================] - 0s 33ms/step - loss: 0.0052 - accuracy: 1.0000 - val_loss: 0.0187 - val_accuracy: 0.9959\n",
            "Epoch 16/16\n",
            "7/7 [==============================] - 0s 32ms/step - loss: 0.0048 - accuracy: 1.0000 - val_loss: 0.0184 - val_accuracy: 0.9959\n"
          ]
        }
      ]
    },
    {
      "cell_type": "markdown",
      "metadata": {
        "id": "5rrsknq3K4dl"
      },
      "source": [
        "So, what's the final verdict?"
      ]
    },
    {
      "cell_type": "code",
      "metadata": {
        "id": "qrebXW4_K4dm",
        "outputId": "5f846252-05ea-4c62-b9e3-8b59a150039c",
        "colab": {
          "base_uri": "https://localhost:8080/"
        }
      },
      "source": [
        "model_B.evaluate(X_test_B, y_test_B)"
      ],
      "execution_count": 99,
      "outputs": [
        {
          "output_type": "stream",
          "name": "stdout",
          "text": [
            "63/63 [==============================] - 0s 5ms/step - loss: 0.0317 - accuracy: 0.9920\n"
          ]
        },
        {
          "output_type": "execute_result",
          "data": {
            "text/plain": [
              "[0.03173137456178665, 0.9919999837875366]"
            ]
          },
          "metadata": {},
          "execution_count": 99
        }
      ]
    },
    {
      "cell_type": "code",
      "metadata": {
        "id": "bV_54BP_K4dn",
        "outputId": "72e92416-0838-4fc6-dca9-479e99daefa5",
        "colab": {
          "base_uri": "https://localhost:8080/"
        }
      },
      "source": [
        "model_B_on_A.evaluate(X_test_B, y_test_B)"
      ],
      "execution_count": 100,
      "outputs": [
        {
          "output_type": "stream",
          "name": "stdout",
          "text": [
            "63/63 [==============================] - 0s 3ms/step - loss: 0.0133 - accuracy: 0.9965\n"
          ]
        },
        {
          "output_type": "execute_result",
          "data": {
            "text/plain": [
              "[0.013333138078451157, 0.9965000152587891]"
            ]
          },
          "metadata": {},
          "execution_count": 100
        }
      ]
    },
    {
      "cell_type": "markdown",
      "metadata": {
        "id": "uv1bilNjK4do"
      },
      "source": [
        "Great! We got quite a bit of transfer: the error rate dropped by a factor of almost 4!"
      ]
    },
    {
      "cell_type": "code",
      "metadata": {
        "id": "yEbYx49IK4dp",
        "outputId": "c4bdba41-f08f-446f-f725-952f85b7e9f7",
        "colab": {
          "base_uri": "https://localhost:8080/"
        }
      },
      "source": [
        "(100 - 97.05) / (100 - 99.25)"
      ],
      "execution_count": 101,
      "outputs": [
        {
          "output_type": "execute_result",
          "data": {
            "text/plain": [
              "3.933333333333337"
            ]
          },
          "metadata": {},
          "execution_count": 101
        }
      ]
    }
  ]
}